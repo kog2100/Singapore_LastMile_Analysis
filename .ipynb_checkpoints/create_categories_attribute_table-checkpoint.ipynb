{
 "cells": [
  {
   "cell_type": "code",
   "execution_count": null,
   "metadata": {},
   "outputs": [],
   "source": [
    "import pandas as pd\n",
    "import geopandas as gpd\n",
    "import numpy as np"
   ]
  },
  {
   "cell_type": "code",
   "execution_count": null,
   "metadata": {},
   "outputs": [],
   "source": [
    "import math\n",
    "import matplotlib.pyplot as plt\n",
    "from scipy import stats\n",
    "from functools import reduce"
   ]
  },
  {
   "cell_type": "code",
   "execution_count": null,
   "metadata": {},
   "outputs": [],
   "source": [
    "#load in the OD matrix for POI and bus stops extracted from GIS\n",
    "fp_dest100 = \"OD_allPOI_100.csv\"\n",
    "fp_dest300 = \"OD_allPOI_300.csv\"\n",
    "fp_dest500 = \"OD_allPOI_500.csv\"\n",
    "fp_dest400 = \"OD_allPOI_400.csv\"\n",
    "fp_dest200 = \"OD_allPOI_200.csv\"\n",
    "fp_dest600 = \"OD_allPOI_600.csv\"\n",
    "fp_trips = \"trips.csv\""
   ]
  },
  {
   "cell_type": "code",
   "execution_count": null,
   "metadata": {},
   "outputs": [],
   "source": [
    "df_DestBus100 = pd.read_csv(fp_dest100)\n",
    "df_DestBus300 = pd.read_csv(fp_dest300)\n",
    "df_DestBus500 = pd.read_csv(fp_dest500)\n",
    "df_DestBus200 = pd.read_csv(fp_dest200)\n",
    "df_DestBus400 = pd.read_csv(fp_dest400)\n",
    "df_DestBus600 = pd.read_csv(fp_dest600)\n",
    "df_trips = pd.read_csv(fp_trips)"
   ]
  },
  {
   "cell_type": "code",
   "execution_count": null,
   "metadata": {},
   "outputs": [],
   "source": [
    "df_DestBus100.dest_busid = df_DestBus100.dest_busid.astype(str)\n",
    "df_DestBus200.dest_busid = df_DestBus200.dest_busid.astype(str)\n",
    "df_DestBus300.dest_busid = df_DestBus300.dest_busid.astype(str)\n",
    "df_DestBus400.dest_busid = df_DestBus400.dest_busid.astype(str)\n",
    "df_DestBus500.dest_busid = df_DestBus500.dest_busid.astype(str)\n",
    "df_DestBus600.dest_busid = df_DestBus600.dest_busid.astype(str)\n",
    "df_trips.dest_busid = df_trips.dest_busid.astype(str)"
   ]
  },
  {
   "cell_type": "code",
   "execution_count": null,
   "metadata": {},
   "outputs": [],
   "source": [
    "df_DestBus600.info()"
   ]
  },
  {
   "cell_type": "code",
   "execution_count": null,
   "metadata": {},
   "outputs": [],
   "source": [
    "#assign bus stops to their planning area\n",
    "bus_stop = gpd.read_file('busStop_location_svy.shp')\n",
    "planning_area = gpd.read_file('planning_area.shp')\n",
    "busStop_area = gpd.sjoin(bus_stop, planning_area, op='within')\n",
    "len(busStop_area) == len(bus_stop)  "
   ]
  },
  {
   "cell_type": "code",
   "execution_count": null,
   "metadata": {},
   "outputs": [],
   "source": [
    "busStop_area = busStop_area[['dest_busid','PLN_AREA_N']].copy().rename(columns={'PLN_AREA_N':'planning_area'})"
   ]
  },
  {
   "cell_type": "code",
   "execution_count": null,
   "metadata": {},
   "outputs": [],
   "source": [
    "#identify bus stop interchanges\n",
    "interchange = pd.read_csv('interchanges_trips.csv')\n",
    "interchange = interchange[['dest_busid','Has_Interchange']].copy()\n",
    "interchange.dest_busid = interchange.dest_busid.astype(str)\n",
    "busStop_area.dest_busid = busStop_area.dest_busid.astype(str)\n",
    "busStop_area_xInterchange = pd.merge(busStop_area, interchange, on='dest_busid', how='left')\n",
    "busStop_area_xInterchange = busStop_area_xInterchange.fillna(0)\n",
    "busStop_area_xInterchange.Has_Interchange = busStop_area_xInterchange.Has_Interchange.astype(str)"
   ]
  },
  {
   "cell_type": "code",
   "execution_count": null,
   "metadata": {},
   "outputs": [],
   "source": [
    "#busStop_area_xInterchange.info()\n",
    "#busStop_area_xInterchange[busStop_area_xInterchange['Has_Interchange']==1]\n",
    "len(busStop_area.planning_area.unique())"
   ]
  },
  {
   "cell_type": "code",
   "execution_count": null,
   "metadata": {},
   "outputs": [],
   "source": [
    "def return_planning_areaXinterchange():\n",
    "    return busStop_area_xInterchange"
   ]
  },
  {
   "cell_type": "code",
   "execution_count": null,
   "metadata": {},
   "outputs": [],
   "source": [
    "# map weights to different POI categories - for no weight measurement change weights to 1\n",
    "poi_weight = {'child_care': 0.07, 'daily_needs': 0.27, 'culture': 0.07, 'sports':0.28, 'health_care': 0.17,\n",
    "       'social' : 0.14}\n"
   ]
  },
  {
   "cell_type": "code",
   "execution_count": null,
   "metadata": {},
   "outputs": [],
   "source": [
    "df_trips.info()"
   ]
  },
  {
   "cell_type": "code",
   "execution_count": null,
   "metadata": {},
   "outputs": [],
   "source": [
    "# set a beta value (b) based on f(x) = e^-bx with f(0) = 1, for beta value use f(600) as the max dist\n",
    "beta = round ((np.log(0.01)/-600), 4)"
   ]
  },
  {
   "cell_type": "code",
   "execution_count": null,
   "metadata": {},
   "outputs": [],
   "source": [
    "def decay_distance (beta, distance):\n",
    "    '''\n",
    "    Input: takes in a beta value and a dataframe series containing distance values\n",
    "    Output: uses the exponential decay funtion to return a decayed distance value\n",
    "    '''\n",
    "    \n",
    "    return distance.map(lambda x: math.exp(-beta * x))"
   ]
  },
  {
   "cell_type": "code",
   "execution_count": null,
   "metadata": {},
   "outputs": [],
   "source": [
    "def categorize_poi (df, name = ''):\n",
    "    '''\n",
    "    returns columns for the different categories of poi and their access_scores with weigth 1\n",
    "    columns are named with additional suffix plus name input\n",
    "    input: dataframe df with columns [dest_busid, poi_group, decayed_distance]; string name\n",
    "    '''\n",
    "    return df.groupby(['dest_busid','poi_group'])['decayed_distance'].sum().squeeze().unstack().add_suffix('_access_score'+name).reset_index()"
   ]
  },
  {
   "cell_type": "code",
   "execution_count": null,
   "metadata": {},
   "outputs": [],
   "source": [
    "def dest_summary_table (beta, df_DestBus, df_trips, out_name):\n",
    "    \n",
    "    '''\n",
    "    Generate the accessibility score table by first calculating the access scores for the bus stops and \n",
    "    their POI and then merging with the trips data\n",
    "    Requires three inputs\n",
    "    1. A dataframe containing the bus stops (dest_busid) and their distance (Total_Leng) to POIs (poi). \n",
    "    2. A trip table dataframe containing the exit bus stops (dest_busid), origin bus stops (orig_busid) and number of Trips per bus stop\n",
    "    3. An appended string name that is used to identify the different distance buffer. E.g '100' to generate\n",
    "    a table for 100m buffer\n",
    "    4. A beta value for the decay distance function\n",
    "    \n",
    "    The function returns a dataframe containing access scores per bus stop and their categories, total number of destination trips,\n",
    "    and number of pois per bus stop and average distance per bus stop\n",
    "    \n",
    "    '''\n",
    "\n",
    "    #rename to show that the length is the raw length from GIS in meters\n",
    "    df_DestBus.rename(columns={'Total_Leng':'raw_length'}, inplace = True)\n",
    "\n",
    "    #there was infinity in the value and because of these two zero POI\n",
    "    #print(df_DestBus[df_DestBus['raw_length']==0])\n",
    "\n",
    "    #df_DestBus = df_DestBus[df_DestBus['raw_length']!=0].copy()\n",
    "    \n",
    "    #map POI weights to the POI categories\n",
    "    df_DestBus['poi_weights'] = df_DestBus['poi_group'].map(poi_weight)\n",
    "    \n",
    "    #apply distance decay for an accessibility score\n",
    "\n",
    "    df_DestBus['decayed_distance'] = decay_distance(beta, df_DestBus['raw_length'])\n",
    "    \n",
    "    #calculating POI access_score\n",
    "    df_DestBus['poi_access'] = df_DestBus.decayed_distance * df_DestBus.poi_weights\n",
    "    \n",
    "    #calculating overall access score for a bus stop for all poi\n",
    "    dest_access = df_DestBus.groupby('dest_busid')['poi_access'].sum().reset_index().rename(columns={'poi_access':'access_score'})\n",
    "    \n",
    "    #calculating access score for a bus stop for different category of poi\n",
    "    dest_access_cat = categorize_poi (df_DestBus, name = out_name)\n",
    "\n",
    "    #count number of POIs per bus stop\n",
    "    dest_poi = df_DestBus.groupby('dest_busid')['poi'].count().reset_index()\n",
    "    \n",
    "    #get average length per bus stop\n",
    "    dest_dist = df_DestBus.groupby('dest_busid')['raw_length'].mean().reset_index().rename(columns={'raw_length':'avg_distance'})\n",
    "    \n",
    "    #get planning area and interchange\n",
    "    planning_area = return_planning_areaXinterchange()\n",
    "    \n",
    "    # merge the aggregates which reflects the distinct trips per bus stop using #from functools import reduce\n",
    "    #dfs = [dest_trips,orig_trips,dest_poi, dest_dist, dest_access]\n",
    "    dfs = [df_trips,dest_poi, dest_dist, dest_access, dest_access_cat, planning_area]\n",
    "    dest_summary = reduce(lambda left,right: pd.merge(left,right,on='dest_busid', how='left'), dfs)\n",
    "\n",
    "    dest_summary.dest_busid = dest_summary.dest_busid.astype(str)\n",
    "    poi_name = 'poi'+ '_'+ out_name\n",
    "    avg_dist_name = 'avg_distance'+ '_'+ out_name\n",
    "    access_name = 'access_score'+ '_'+ out_name\n",
    "    dest_summary.rename(columns={'poi':poi_name, 'avg_distance':avg_dist_name,\n",
    "       'access_score':access_name}, inplace=True)\n",
    "    dest_summary = dest_summary.fillna(0)\n",
    "    \n",
    "    return dest_summary"
   ]
  },
  {
   "cell_type": "code",
   "execution_count": null,
   "metadata": {},
   "outputs": [],
   "source": [
    "dest100_summary = dest_summary_table (beta, df_DestBus100, df_trips, '100')\n",
    "dest200_summary = dest_summary_table (beta, df_DestBus200, df_trips, '200')\n",
    "dest300_summary = dest_summary_table (beta, df_DestBus300, df_trips, '300')\n",
    "dest400_summary = dest_summary_table (beta, df_DestBus400, df_trips, '400')\n",
    "dest500_summary = dest_summary_table (beta, df_DestBus500, df_trips, '500')\n",
    "dest600_summary = dest_summary_table (beta, df_DestBus600, df_trips, '600')"
   ]
  },
  {
   "cell_type": "code",
   "execution_count": null,
   "metadata": {},
   "outputs": [],
   "source": [
    "#remove 919 bus stops having no POI within 600m\n",
    "dest600_summary = dest600_summary[dest600_summary['poi_600']!=0] \n",
    "dest600_summary.info()"
   ]
  },
  {
   "cell_type": "code",
   "execution_count": null,
   "metadata": {},
   "outputs": [],
   "source": [
    "#merge all the distance buffer access dataframes for better descriptive analysis\n",
    "dfs = [dest600_summary,dest500_summary,dest400_summary,dest300_summary,dest200_summary,dest100_summary]\n",
    "dest_summary = reduce(lambda left,right: pd.merge(left,right,on='dest_busid', how='left'), dfs)"
   ]
  },
  {
   "cell_type": "code",
   "execution_count": null,
   "metadata": {},
   "outputs": [],
   "source": [
    "dest_summary.columns"
   ]
  },
  {
   "cell_type": "code",
   "execution_count": null,
   "metadata": {},
   "outputs": [],
   "source": [
    "dest_summary.columns = ['dest_busid', 'TripsPerDest', 'TripsPerOrig', 'poi_600',\n",
    "       'avg_distance_600', 'access_score_600', 'child_care_access_score600',\n",
    "       'culture_access_score600', 'daily_needs_access_score600',\n",
    "       'health_care_access_score600', 'social_access_score600',\n",
    "       'sports_access_score600', 'planning_area', 'Has_Interchange',\n",
    "       'TripsPerDest_y', 'TripsPerOrig_y', 'poi_500', 'avg_distance_500',\n",
    "       'access_score_500', 'child_care_access_score500',\n",
    "       'culture_access_score500', 'daily_needs_access_score500',\n",
    "       'health_care_access_score500', 'social_access_score500',\n",
    "       'sports_access_score500', 'planning_area_y', 'Has_Interchange_y',\n",
    "       'TripsPerDest_x', 'TripsPerOrig_x', 'poi_400', 'avg_distance_400',\n",
    "       'access_score_400', 'child_care_access_score400',\n",
    "       'culture_access_score400', 'daily_needs_access_score400',\n",
    "       'health_care_access_score400', 'social_access_score400',\n",
    "       'sports_access_score400', 'planning_area_x', 'Has_Interchange_x',\n",
    "       'TripsPerDest_y', 'TripsPerOrig_y', 'poi_300', 'avg_distance_300',\n",
    "       'access_score_300', 'child_care_access_score300',\n",
    "       'culture_access_score300', 'daily_needs_access_score300',\n",
    "       'health_care_access_score300', 'social_access_score300',\n",
    "       'sports_access_score300', 'planning_area_y', 'Has_Interchange_y',\n",
    "       'TripsPerDest_x', 'TripsPerOrig_x', 'poi_200', 'avg_distance_200',\n",
    "       'access_score_200', 'child_care_access_score200',\n",
    "       'culture_access_score200', 'daily_needs_access_score200',\n",
    "       'health_care_access_score200', 'social_access_score200',\n",
    "       'sports_access_score200', 'planning_area_x', 'Has_Interchange_x',\n",
    "       'TripsPerDest_y', 'TripsPerOrig_y', 'poi_100', 'avg_distance_100',\n",
    "       'access_score_100', 'child_care_access_score100',\n",
    "       'culture_access_score100', 'daily_needs_access_score100',\n",
    "       'health_care_access_score100', 'social_access_score100',\n",
    "       'sports_access_score100', 'planning_area_y', 'Has_Interchange_y']"
   ]
  },
  {
   "cell_type": "code",
   "execution_count": null,
   "metadata": {},
   "outputs": [],
   "source": [
    "dest_summary = dest_summary[['dest_busid', 'TripsPerDest','planning_area', 'Has_Interchange', 'poi_100',\n",
    "       'avg_distance_100', 'access_score_100', 'child_care_access_score100',\n",
    "       'culture_access_score100', 'daily_needs_access_score100',\n",
    "       'health_care_access_score100', 'social_access_score100',\n",
    "       'sports_access_score100', 'poi_200',\n",
    "       'avg_distance_200', 'access_score_200', 'child_care_access_score200',\n",
    "       'culture_access_score200', 'daily_needs_access_score200',\n",
    "       'health_care_access_score200', 'social_access_score200',\n",
    "       'sports_access_score200', 'poi_300',\n",
    "       'avg_distance_300', 'access_score_300', 'child_care_access_score300',\n",
    "       'culture_access_score300', 'daily_needs_access_score300',\n",
    "       'health_care_access_score300', 'social_access_score300',\n",
    "       'sports_access_score300','poi_400',\n",
    "       'avg_distance_400', 'access_score_400', 'child_care_access_score400',\n",
    "       'culture_access_score400', 'daily_needs_access_score400',\n",
    "       'health_care_access_score400', 'social_access_score400',\n",
    "       'sports_access_score400', 'poi_500',\n",
    "       'avg_distance_500', 'access_score_500', 'child_care_access_score500',\n",
    "       'culture_access_score500', 'daily_needs_access_score500',\n",
    "       'health_care_access_score500', 'social_access_score500',\n",
    "       'sports_access_score500', 'poi_600',\n",
    "       'avg_distance_600', 'access_score_600', 'child_care_access_score600',\n",
    "       'culture_access_score600', 'daily_needs_access_score600',\n",
    "       'health_care_access_score600', 'social_access_score600',\n",
    "       'sports_access_score600']].copy()"
   ]
  },
  {
   "cell_type": "code",
   "execution_count": null,
   "metadata": {},
   "outputs": [],
   "source": [
    "dest_summary.to_csv('access_scores_all.csv', index=False)"
   ]
  },
  {
   "cell_type": "code",
   "execution_count": null,
   "metadata": {},
   "outputs": [],
   "source": [
    "#return nan values back to prepare for counting of bus stop with at least 1 POI\n",
    "dest_summary.replace({0: None})"
   ]
  },
  {
   "cell_type": "code",
   "execution_count": null,
   "metadata": {},
   "outputs": [],
   "source": [
    "dest_summary.info()"
   ]
  },
  {
   "cell_type": "code",
   "execution_count": null,
   "metadata": {},
   "outputs": [],
   "source": [
    "df_access_scores = dest_summary[['dest_busid', 'TripsPerDest', 'access_score_100', 'access_score_200', 'access_score_300',  'access_score_400', 'access_score_500', 'access_score_600']].copy()"
   ]
  },
  {
   "cell_type": "code",
   "execution_count": null,
   "metadata": {},
   "outputs": [],
   "source": [
    "df_access_scores.describe()"
   ]
  },
  {
   "cell_type": "code",
   "execution_count": null,
   "metadata": {},
   "outputs": [],
   "source": [
    "df_access_scores.var()"
   ]
  },
  {
   "cell_type": "code",
   "execution_count": null,
   "metadata": {},
   "outputs": [],
   "source": [
    "#if we want to remove interchange bus stops\n",
    "inter_merge = pd.merge(df_access_scores, interchange, on='dest_busid', how='left')\n",
    "df_NoInter_Access = inter_merge[inter_merge['Has_Interchange'] !=1].copy()\n",
    "df_NoInter_Access = df_NoInter_Access[['dest_busid', 'TripsPerdest', 'access_score_100', 'access_score_200', 'access_score_300',  'access_score_400', 'access_score_500', 'access_score_600']].copy()\n",
    "#inter_merge[inter_merge['Has_Interchange'] !=1].describe()"
   ]
  },
  {
   "cell_type": "code",
   "execution_count": null,
   "metadata": {},
   "outputs": [],
   "source": [
    "df_NoInter_Access.describe()"
   ]
  },
  {
   "cell_type": "code",
   "execution_count": null,
   "metadata": {},
   "outputs": [],
   "source": [
    "df_NoInter_Access.var()"
   ]
  },
  {
   "cell_type": "code",
   "execution_count": null,
   "metadata": {},
   "outputs": [],
   "source": [
    "#save the access scores in cummulative format still containing nan values for use in NBR for case 1 y = a + Bx\n",
    "df_access_scores.to_csv('access_scores_cum_weight.csv', index=False)\n",
    "df_NoInter_Access.to_csv('access_scores_cum_NoInterchange_weight.csv', index=False)"
   ]
  },
  {
   "cell_type": "code",
   "execution_count": null,
   "metadata": {},
   "outputs": [],
   "source": [
    "#extract bus stops with no poi\n",
    "#no_poi = test2[test2['all_poi_600']==0]\n",
    "#no_poi.to_csv('busStops_no_POIs_weight.csv', index=False)"
   ]
  },
  {
   "cell_type": "code",
   "execution_count": null,
   "metadata": {},
   "outputs": [],
   "source": [
    "#get cummulative counts of Bus Stop with at least one poi\n",
    "poi_only = dest_summary[['poi_100','poi_200','poi_300','poi_400','poi_500','poi_600']].copy()\n",
    "poi_only.rename(columns={'poi_100':'100m','poi_200':'200m','poi_300':'300m','poi_400':'400m','poi_500':'500m','poi_600':'600m'}, inplace=True)\n"
   ]
  },
  {
   "cell_type": "code",
   "execution_count": null,
   "metadata": {},
   "outputs": [],
   "source": [
    "childC_only = dest_summary[[\n",
    "        'child_care_access_score100',\n",
    "        'child_care_access_score200',\n",
    "        'child_care_access_score300',\n",
    "        'child_care_access_score400',\n",
    "        'child_care_access_score500',\n",
    "        'child_care_access_score600']].copy()\n",
    "childC_only.rename(columns={\n",
    "        'child_care_access_score100':'100m',\n",
    "        'child_care_access_score200':'200m',\n",
    "        'child_care_access_score300':'300m',\n",
    "        'child_care_access_score400':'400m',\n",
    "        'child_care_access_score500':'500m',\n",
    "        'child_care_access_score600':'600m'}, inplace=True)\n",
    "culture_only = dest_summary[[ \n",
    "       'culture_access_score100',\n",
    "       'culture_access_score200',\n",
    "       'culture_access_score300', \n",
    "       'culture_access_score400', \n",
    "       'culture_access_score500', \n",
    "       'culture_access_score600']].copy()\n",
    "culture_only.rename(columns={ \n",
    "        'culture_access_score100':'100m',\n",
    "        'culture_access_score200':'200m',\n",
    "        'culture_access_score300':'300m',\n",
    "        'culture_access_score400':'400m',\n",
    "        'culture_access_score500':'500m',\n",
    "        'culture_access_score600':'600m'}, inplace=True)\n",
    "shop_only = dest_summary[[ \n",
    "       'daily_needs_access_score100',\n",
    "       'daily_needs_access_score200',\n",
    "       'daily_needs_access_score300',\n",
    "       'daily_needs_access_score400',\n",
    "       'daily_needs_access_score500',\n",
    "       'daily_needs_access_score600']].copy()\n",
    "shop_only.rename(columns={ \n",
    "        'daily_needs_access_score100':'100m',\n",
    "        'daily_needs_access_score200':'200m',\n",
    "        'daily_needs_access_score300':'300m',\n",
    "        'daily_needs_access_score400':'400m',\n",
    "        'daily_needs_access_score500':'500m',\n",
    "        'daily_needs_access_score600':'600m'}, inplace=True)\n",
    "health_only = dest_summary[[\n",
    "       'health_care_access_score100', \n",
    "       'health_care_access_score200', \n",
    "       'health_care_access_score300', \n",
    "       'health_care_access_score400', \n",
    "       'health_care_access_score500', \n",
    "       'health_care_access_score600', ]].copy()\n",
    "health_only.rename(columns={\n",
    "        'health_care_access_score100':'100m',\n",
    "        'health_care_access_score200':'200m',\n",
    "        'health_care_access_score300':'300m',\n",
    "        'health_care_access_score400':'400m',\n",
    "        'health_care_access_score500':'500m',\n",
    "        'health_care_access_score600':'600m'}, inplace=True)\n",
    "social_only = dest_summary[[\n",
    "       'social_access_score100',\n",
    "       'social_access_score200',\n",
    "       'social_access_score300',\n",
    "       'social_access_score400',\n",
    "       'social_access_score500',\n",
    "       'social_access_score600']].copy()\n",
    "social_only.rename(columns={ \n",
    "        'social_access_score100':'100m',\n",
    "        'social_access_score200':'200m',\n",
    "        'social_access_score300':'300m',\n",
    "        'social_access_score400':'400m',\n",
    "        'social_access_score500':'500m',\n",
    "        'social_access_score600':'600m'}, inplace=True)\n",
    "sports_only = dest_summary[[\n",
    "       'sports_access_score100', \n",
    "       'sports_access_score200', \n",
    "       'sports_access_score300', \n",
    "       'sports_access_score400', \n",
    "       'sports_access_score500',\n",
    "       'sports_access_score600']].copy()\n",
    "sports_only.rename(columns={ \n",
    "        'sports_access_score100':'100m',\n",
    "        'sports_access_score200':'200m',\n",
    "        'sports_access_score300':'300m',\n",
    "        'sports_access_score400':'400m',\n",
    "        'sports_access_score500':'500m',\n",
    "        'sports_access_score600':'600m'}, inplace=True)"
   ]
  },
  {
   "cell_type": "code",
   "execution_count": null,
   "metadata": {},
   "outputs": [],
   "source": []
  },
  {
   "cell_type": "code",
   "execution_count": null,
   "metadata": {},
   "outputs": [],
   "source": [
    "poi_only = pd.DataFrame(poi_only.count()).reset_index()\n",
    "poi_only.columns=['distance','Bstop_count_all']\n",
    "\n",
    "childC_only= pd.DataFrame(childC_only.count()).reset_index()\n",
    "childC_only.columns=['distance','Bstop_count_childC']\n",
    "\n",
    "culture_only= pd.DataFrame(culture_only.count()).reset_index()\n",
    "culture_only.columns=['distance','Bstop_count_culture']\n",
    "\n",
    "shop_only= pd.DataFrame(shop_only.count()).reset_index()\n",
    "shop_only.columns=['distance','Bstop_count_shop']\n",
    "\n",
    "health_only= pd.DataFrame(health_only.count()).reset_index()\n",
    "health_only.columns=['distance','Bstop_count_health']\n",
    "\n",
    "social_only= pd.DataFrame(social_only.count()).reset_index()\n",
    "social_only.columns=['distance','Bstop_count_social']\n",
    "\n",
    "sports_only= pd.DataFrame(sports_only.count()).reset_index()\n",
    "sports_only.columns=['distance','Bstop_count_sports']\n"
   ]
  },
  {
   "cell_type": "code",
   "execution_count": null,
   "metadata": {},
   "outputs": [],
   "source": [
    "dfList = [poi_only, childC_only['Bstop_count_childC'], culture_only['Bstop_count_culture'], shop_only['Bstop_count_shop'], health_only['Bstop_count_health'], social_only['Bstop_count_social'], sports_only['Bstop_count_sports']]\n",
    "busStop_counts = pd.concat(dfList, axis = 1)\n",
    "busStop_counts.set_index('distance', inplace=True)"
   ]
  },
  {
   "cell_type": "code",
   "execution_count": null,
   "metadata": {},
   "outputs": [],
   "source": [
    "print(busStop_counts)"
   ]
  },
  {
   "cell_type": "code",
   "execution_count": null,
   "metadata": {},
   "outputs": [],
   "source": [
    "ax = busStop_counts.plot.bar(figsize=(10,7))\n",
    "plt.xlabel(\"Cummulative Distance buffers\")\n",
    "plt.ylabel(\"number of bus stops with at least 1 poi within buffer\")"
   ]
  },
  {
   "cell_type": "code",
   "execution_count": null,
   "metadata": {},
   "outputs": [],
   "source": [
    "#get cummulative counts of Bus Stop with at least one poi\n",
    "ax = poi_only.plot.bar(colormap='Paired')\n",
    "plt.xlabel(\"Cummulative Distance buffers\")\n",
    "plt.ylabel(\"number of bus stops with at least 1 poi within buffer\")"
   ]
  }
 ],
 "metadata": {
  "kernelspec": {
   "display_name": "Python 3",
   "language": "python",
   "name": "python3"
  },
  "language_info": {
   "codemirror_mode": {
    "name": "ipython",
    "version": 3
   },
   "file_extension": ".py",
   "mimetype": "text/x-python",
   "name": "python",
   "nbconvert_exporter": "python",
   "pygments_lexer": "ipython3",
   "version": "3.7.0"
  }
 },
 "nbformat": 4,
 "nbformat_minor": 2
}
