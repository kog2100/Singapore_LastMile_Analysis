{
 "cells": [
  {
   "cell_type": "code",
   "execution_count": 1,
   "metadata": {},
   "outputs": [],
   "source": [
    "import pandas as pd\n",
    "import geopandas as gpd\n",
    "import numpy as np"
   ]
  },
  {
   "cell_type": "code",
   "execution_count": 2,
   "metadata": {},
   "outputs": [],
   "source": [
    "import math\n",
    "import matplotlib.pyplot as plt\n",
    "import seaborn as sns\n",
    "from scipy import stats\n"
   ]
  },
  {
   "cell_type": "code",
   "execution_count": 3,
   "metadata": {},
   "outputs": [],
   "source": [
    "#load in the OD matrix for POI and bus stops extracted from GIS\n",
    "fp_dest100 = \"OD_allPOI_100.csv\"\n",
    "fp_dest300 = \"OD_allPOI_300.csv\"\n",
    "fp_dest500 = \"OD_allPOI_500.csv\"\n",
    "fp_dest400 = \"OD_allPOI_400.csv\"\n",
    "fp_dest200 = \"OD_allPOI_200.csv\"\n",
    "fp_dest600 = \"OD_allPOI_600.csv\"\n",
    "fp_trips = \"trips.csv\""
   ]
  },
  {
   "cell_type": "code",
   "execution_count": 4,
   "metadata": {},
   "outputs": [],
   "source": [
    "df_DestBus100 = pd.read_csv(fp_dest100)\n",
    "df_DestBus300 = pd.read_csv(fp_dest300)\n",
    "df_DestBus500 = pd.read_csv(fp_dest500)\n",
    "df_DestBus200 = pd.read_csv(fp_dest200)\n",
    "df_DestBus400 = pd.read_csv(fp_dest400)\n",
    "df_DestBus600 = pd.read_csv(fp_dest600)\n",
    "df_trips = pd.read_csv(fp_trips)"
   ]
  },
  {
   "cell_type": "code",
   "execution_count": 5,
   "metadata": {},
   "outputs": [],
   "source": [
    "df_DestBus100.dest_busid = df_DestBus100.dest_busid.astype(str)\n",
    "df_DestBus200.dest_busid = df_DestBus200.dest_busid.astype(str)\n",
    "df_DestBus300.dest_busid = df_DestBus300.dest_busid.astype(str)\n",
    "df_DestBus400.dest_busid = df_DestBus400.dest_busid.astype(str)\n",
    "df_DestBus500.dest_busid = df_DestBus500.dest_busid.astype(str)\n",
    "df_DestBus600.dest_busid = df_DestBus600.dest_busid.astype(str)\n",
    "df_trips.dest_busid = df_trips.dest_busid.astype(str)"
   ]
  },
  {
   "cell_type": "code",
   "execution_count": 6,
   "metadata": {},
   "outputs": [],
   "source": [
    "df_trips = df_trips[df_trips['TripsPerDest']<1000].copy()"
   ]
  },
  {
   "cell_type": "code",
   "execution_count": null,
   "metadata": {},
   "outputs": [],
   "source": [
    "len(df_trips)"
   ]
  },
  {
   "cell_type": "code",
   "execution_count": 8,
   "metadata": {},
   "outputs": [],
   "source": [
    "def dest_summary_table (df_DestBus, df_trips, out_name):\n",
    "    \n",
    "    '''\n",
    "    Generate the accessibility score table by first calculating the access scores for the bus stops and \n",
    "    their POI and then merging with the trips data\n",
    "    Requires three inputs\n",
    "    1. A dataframe containing the bus stops (dest_busid) and their distance (Total_Leng) to POIs (poi). \n",
    "    2. A trip table dataframe containing the exit bus stops (dest_busid), origin bus stops (orig_busid) and \n",
    "    the person trip ID (Card_Number)\n",
    "    3. An appended string name that is used to identify the different distance buffer. E.g '100' to generate\n",
    "    a table for 100m buffer \n",
    "    \n",
    "    The function returns a dataframe containing access scores per bus stop, total number of destination trips,\n",
    "    origin trips and pois per bus stop and average distance per bus stop\n",
    "    \n",
    "    '''\n",
    "\n",
    "    \n",
    "    #rename to show that the length is the raw length from GIS in meters\n",
    "    df_DestBus.rename(columns={'Total_Leng':'raw_length'}, inplace = True)\n",
    "\n",
    "    #there was infinity in the value and because of these two zero POI\n",
    "    #print(df_DestBus[df_DestBus['raw_length']==0])\n",
    "\n",
    "    df_DestBus = df_DestBus[df_DestBus['raw_length']!=0].copy()\n",
    "\n",
    "    #df_DestBus['length'] = 1/((df_DestBus['raw_length'])**2)\n",
    "    \n",
    "    # set a beta value (b) based on f(x) = Ke^-bx K is 1 f(0) = k, for beta value use f(600) as the max dist\n",
    "    beta = round ((np.log(0.001)/-600), 4)\n",
    "    \n",
    "    #apply distance decay for an accessibility score\n",
    "\n",
    "    df_DestBus['length'] = df_DestBus['raw_length'].map(lambda x: math.exp(-beta * x))\n",
    "    \n",
    "    #get average length per bus stop\n",
    "    dest_dist = df_DestBus.groupby('dest_busid')['raw_length'].mean().reset_index().rename(columns={'raw_length':'avg_distance'})\n",
    "\n",
    "    #using sum\n",
    "    dest_access = df_DestBus.groupby('dest_busid')['length'].sum().reset_index().rename(columns={'length':'access_score'})\n",
    "\n",
    "    #1 - group POIs by dest\n",
    "    dest_poi = df_DestBus.groupby('dest_busid')['poi'].count().reset_index()\n",
    "\n",
    "    #number of trips per dest\n",
    "    #dest_trips = df_trips.groupby(['dest_busid'])['Card_Number'].count().reset_index().rename(columns={'Card_Number':'TripsPerdest'})\n",
    "    \n",
    "    #number of trips per orig\n",
    "    #orig_trips = df_trips.groupby(['orig_busid'])['Card_Number'].count().reset_index().rename(columns={'orig_busid':'dest_busid','Card_Number':'TripsPerOrig'})\n",
    "\n",
    "    \n",
    "    # merge the aggregates which reflects the distinct trips per bus stop\n",
    "    from functools import reduce\n",
    "    #dfs = [dest_trips,orig_trips,dest_poi, dest_dist, dest_access]\n",
    "    dfs = [df_trips,dest_poi, dest_dist, dest_access]\n",
    "    dest_summary = reduce(lambda left,right: pd.merge(left,right,on='dest_busid', how='left'), dfs)\n",
    "\n",
    "    dest_summary.dest_busid = dest_summary.dest_busid.astype(str)\n",
    "    poi_name = 'poi'+ '_'+ out_name\n",
    "    avg_dist_name = 'avg_distance'+ '_'+ out_name\n",
    "    access_name = 'access_score'+ '_'+ out_name\n",
    "    dest_summary.rename(columns={'poi':poi_name, 'avg_distance':avg_dist_name,\n",
    "       'access_score':access_name}, inplace=True)\n",
    "    \n",
    "    return dest_summary"
   ]
  },
  {
   "cell_type": "code",
   "execution_count": 9,
   "metadata": {},
   "outputs": [],
   "source": [
    "dest100_summary = dest_summary_table (df_DestBus100, df_trips, '100')\n",
    "dest200_summary = dest_summary_table (df_DestBus200, df_trips, '200')\n",
    "dest300_summary = dest_summary_table (df_DestBus300, df_trips, '300')\n",
    "dest400_summary = dest_summary_table (df_DestBus400, df_trips, '400')\n",
    "dest500_summary = dest_summary_table (df_DestBus500, df_trips, '500')\n",
    "dest600_summary = dest_summary_table (df_DestBus600, df_trips, '600')"
   ]
  },
  {
   "cell_type": "code",
   "execution_count": 10,
   "metadata": {},
   "outputs": [],
   "source": [
    "def csv_save (name, file):\n",
    "    output = name\n",
    "    file.to_csv(output, index=False)"
   ]
  },
  {
   "cell_type": "code",
   "execution_count": 11,
   "metadata": {},
   "outputs": [],
   "source": [
    "#output file for regression analysis\n",
    "#csv_save('dest100_summary_single.csv',dest100_summary)\n",
    "#csv_save('dest200_summary_single.csv',dest200_summary)\n",
    "#csv_save('dest300_summary_single.csv',dest300_summary)\n",
    "#csv_save('dest400_summary_single.csv',dest400_summary)\n",
    "#csv_save('dest500_summary_single.csv',dest500_summary)\n",
    "#csv_save('dest600_summary_single.csv',dest600_summary)"
   ]
  },
  {
   "cell_type": "code",
   "execution_count": 41,
   "metadata": {},
   "outputs": [],
   "source": [
    "#merge all the distance buffer access dataframes for better descriptive analysis\n",
    "from functools import reduce\n",
    "dfs = [dest100_summary,dest200_summary,dest300_summary,dest400_summary,dest500_summary,dest600_summary]\n",
    "dest_summary = reduce(lambda left,right: pd.merge(left,right,on='dest_busid', how='left'), dfs)"
   ]
  },
  {
   "cell_type": "code",
   "execution_count": 42,
   "metadata": {},
   "outputs": [
    {
     "data": {
      "text/plain": [
       "Index(['dest_busid', 'TripsPerDest_x', 'TripsPerOrig_x', 'poi_100',\n",
       "       'avg_distance_100', 'access_score_100', 'TripsPerDest_y',\n",
       "       'TripsPerOrig_y', 'poi_200', 'avg_distance_200', 'access_score_200',\n",
       "       'TripsPerDest_x', 'TripsPerOrig_x', 'poi_300', 'avg_distance_300',\n",
       "       'access_score_300', 'TripsPerDest_y', 'TripsPerOrig_y', 'poi_400',\n",
       "       'avg_distance_400', 'access_score_400', 'TripsPerDest_x',\n",
       "       'TripsPerOrig_x', 'poi_500', 'avg_distance_500', 'access_score_500',\n",
       "       'TripsPerDest_y', 'TripsPerOrig_y', 'poi_600', 'avg_distance_600',\n",
       "       'access_score_600'],\n",
       "      dtype='object')"
      ]
     },
     "execution_count": 42,
     "metadata": {},
     "output_type": "execute_result"
    }
   ],
   "source": [
    "dest_summary.columns"
   ]
  },
  {
   "cell_type": "code",
   "execution_count": 43,
   "metadata": {},
   "outputs": [],
   "source": [
    "dest_summary.columns = ['dest_busid', 'TripsPerdest', 'TripsPerOrig', 'all_poi_100',\n",
    "       'avg_distance_100', 'access_score_100', 'TripsPerdest_y',\n",
    "       'TripsPerOrig_y', 'all_poi_200', 'avg_distance_200', 'access_score_200',\n",
    "       'TripsPerdest_x', 'TripsPerOrig_x', 'all_poi_300', 'avg_distance_300',\n",
    "       'access_score_300', 'TripsPerdest_y1', 'TripsPerOrig_y2', 'all_poi_400',\n",
    "       'avg_distance_400', 'access_score_400', 'TripsPerdest_x2',\n",
    "       'TripsPerOrig_x1', 'all_poi_500', 'avg_distance_500', 'access_score_500',\n",
    "       'TripsPerdest_y3', 'TripsPerOrig_y4', 'all_poi_600', 'avg_distance_600',\n",
    "       'access_score_600']"
   ]
  },
  {
   "cell_type": "code",
   "execution_count": 44,
   "metadata": {},
   "outputs": [],
   "source": [
    "dest_summary = dest_summary[['dest_busid', 'TripsPerdest', 'all_poi_100','all_poi_200','all_poi_300','all_poi_400','all_poi_500','all_poi_600',\n",
    "                            'access_score_100', 'access_score_200', 'access_score_300',  'access_score_400', 'access_score_500', 'access_score_600']].copy()"
   ]
  },
  {
   "cell_type": "code",
   "execution_count": 45,
   "metadata": {},
   "outputs": [
    {
     "data": {
      "text/html": [
       "<div>\n",
       "<style scoped>\n",
       "    .dataframe tbody tr th:only-of-type {\n",
       "        vertical-align: middle;\n",
       "    }\n",
       "\n",
       "    .dataframe tbody tr th {\n",
       "        vertical-align: top;\n",
       "    }\n",
       "\n",
       "    .dataframe thead th {\n",
       "        text-align: right;\n",
       "    }\n",
       "</style>\n",
       "<table border=\"1\" class=\"dataframe\">\n",
       "  <thead>\n",
       "    <tr style=\"text-align: right;\">\n",
       "      <th></th>\n",
       "      <th>dest_busid</th>\n",
       "      <th>TripsPerdest</th>\n",
       "      <th>all_poi_100</th>\n",
       "      <th>all_poi_200</th>\n",
       "      <th>all_poi_300</th>\n",
       "      <th>all_poi_400</th>\n",
       "      <th>all_poi_500</th>\n",
       "      <th>all_poi_600</th>\n",
       "      <th>access_score_100</th>\n",
       "      <th>access_score_200</th>\n",
       "      <th>access_score_300</th>\n",
       "      <th>access_score_400</th>\n",
       "      <th>access_score_500</th>\n",
       "      <th>access_score_600</th>\n",
       "    </tr>\n",
       "  </thead>\n",
       "  <tbody>\n",
       "    <tr>\n",
       "      <th>0</th>\n",
       "      <td>1001</td>\n",
       "      <td>172</td>\n",
       "      <td>NaN</td>\n",
       "      <td>6.0</td>\n",
       "      <td>8.0</td>\n",
       "      <td>18.0</td>\n",
       "      <td>33.0</td>\n",
       "      <td>40.0</td>\n",
       "      <td>NaN</td>\n",
       "      <td>0.937115</td>\n",
       "      <td>1.077802</td>\n",
       "      <td>1.235545</td>\n",
       "      <td>1.335372</td>\n",
       "      <td>1.350970</td>\n",
       "    </tr>\n",
       "    <tr>\n",
       "      <th>1</th>\n",
       "      <td>1002</td>\n",
       "      <td>85</td>\n",
       "      <td>NaN</td>\n",
       "      <td>2.0</td>\n",
       "      <td>10.0</td>\n",
       "      <td>20.0</td>\n",
       "      <td>31.0</td>\n",
       "      <td>44.0</td>\n",
       "      <td>NaN</td>\n",
       "      <td>0.344174</td>\n",
       "      <td>0.726871</td>\n",
       "      <td>0.927437</td>\n",
       "      <td>0.993857</td>\n",
       "      <td>1.017670</td>\n",
       "    </tr>\n",
       "    <tr>\n",
       "      <th>2</th>\n",
       "      <td>1003</td>\n",
       "      <td>127</td>\n",
       "      <td>1.0</td>\n",
       "      <td>3.0</td>\n",
       "      <td>9.0</td>\n",
       "      <td>17.0</td>\n",
       "      <td>30.0</td>\n",
       "      <td>42.0</td>\n",
       "      <td>0.326553</td>\n",
       "      <td>0.668862</td>\n",
       "      <td>1.132260</td>\n",
       "      <td>1.274665</td>\n",
       "      <td>1.349410</td>\n",
       "      <td>1.372759</td>\n",
       "    </tr>\n",
       "    <tr>\n",
       "      <th>3</th>\n",
       "      <td>1004</td>\n",
       "      <td>100</td>\n",
       "      <td>1.0</td>\n",
       "      <td>5.0</td>\n",
       "      <td>12.0</td>\n",
       "      <td>18.0</td>\n",
       "      <td>25.0</td>\n",
       "      <td>33.0</td>\n",
       "      <td>0.370268</td>\n",
       "      <td>0.903418</td>\n",
       "      <td>1.462390</td>\n",
       "      <td>1.543645</td>\n",
       "      <td>1.578075</td>\n",
       "      <td>1.591646</td>\n",
       "    </tr>\n",
       "    <tr>\n",
       "      <th>4</th>\n",
       "      <td>1005</td>\n",
       "      <td>154</td>\n",
       "      <td>1.0</td>\n",
       "      <td>2.0</td>\n",
       "      <td>11.0</td>\n",
       "      <td>15.0</td>\n",
       "      <td>24.0</td>\n",
       "      <td>37.0</td>\n",
       "      <td>0.361212</td>\n",
       "      <td>0.481604</td>\n",
       "      <td>0.983582</td>\n",
       "      <td>1.057205</td>\n",
       "      <td>1.110405</td>\n",
       "      <td>1.133425</td>\n",
       "    </tr>\n",
       "  </tbody>\n",
       "</table>\n",
       "</div>"
      ],
      "text/plain": [
       "  dest_busid  TripsPerdest  all_poi_100  all_poi_200  all_poi_300  \\\n",
       "0       1001           172          NaN          6.0          8.0   \n",
       "1       1002            85          NaN          2.0         10.0   \n",
       "2       1003           127          1.0          3.0          9.0   \n",
       "3       1004           100          1.0          5.0         12.0   \n",
       "4       1005           154          1.0          2.0         11.0   \n",
       "\n",
       "   all_poi_400  all_poi_500  all_poi_600  access_score_100  access_score_200  \\\n",
       "0         18.0         33.0         40.0               NaN          0.937115   \n",
       "1         20.0         31.0         44.0               NaN          0.344174   \n",
       "2         17.0         30.0         42.0          0.326553          0.668862   \n",
       "3         18.0         25.0         33.0          0.370268          0.903418   \n",
       "4         15.0         24.0         37.0          0.361212          0.481604   \n",
       "\n",
       "   access_score_300  access_score_400  access_score_500  access_score_600  \n",
       "0          1.077802          1.235545          1.335372          1.350970  \n",
       "1          0.726871          0.927437          0.993857          1.017670  \n",
       "2          1.132260          1.274665          1.349410          1.372759  \n",
       "3          1.462390          1.543645          1.578075          1.591646  \n",
       "4          0.983582          1.057205          1.110405          1.133425  "
      ]
     },
     "execution_count": 45,
     "metadata": {},
     "output_type": "execute_result"
    }
   ],
   "source": [
    "dest_summary.head()"
   ]
  },
  {
   "cell_type": "code",
   "execution_count": 54,
   "metadata": {},
   "outputs": [],
   "source": [
    "#test = dest_summary[['all_poi_100','all_poi_200','all_poi_300','all_poi_400','all_poi_500','all_poi_600']].copy()\n",
    "#test.dropna(how='all')"
   ]
  },
  {
   "cell_type": "code",
   "execution_count": 55,
   "metadata": {},
   "outputs": [
    {
     "name": "stdout",
     "output_type": "stream",
     "text": [
      "<class 'pandas.core.frame.DataFrame'>\n",
      "Int64Index: 4346 entries, 0 to 4345\n",
      "Data columns (total 6 columns):\n",
      "all_poi_100    390 non-null float64\n",
      "all_poi_200    1329 non-null float64\n",
      "all_poi_300    2289 non-null float64\n",
      "all_poi_400    2849 non-null float64\n",
      "all_poi_500    3232 non-null float64\n",
      "all_poi_600    3428 non-null float64\n",
      "dtypes: float64(6)\n",
      "memory usage: 237.7 KB\n"
     ]
    }
   ],
   "source": [
    "test.info()"
   ]
  },
  {
   "cell_type": "code",
   "execution_count": null,
   "metadata": {},
   "outputs": [],
   "source": []
  },
  {
   "cell_type": "code",
   "execution_count": 62,
   "metadata": {},
   "outputs": [],
   "source": [
    "#remove bus stops that don't have any access score or any POI in all 6 buffers\n",
    "test2 = dest_summary.fillna(0)\n",
    "mask = test2[test2.drop(['dest_busid', 'TripsPerdest'], axis=1) != 0]\n",
    "dest_summary = dest_summary.loc[mask.dropna(thresh=1).index]"
   ]
  },
  {
   "cell_type": "code",
   "execution_count": 108,
   "metadata": {},
   "outputs": [],
   "source": [
    "#extract bus stops with no poi\n",
    "no_poi = test2[test2['all_poi_600']==0]\n",
    "no_poi.to_csv('busStops_no_POIs.csv', index=False)"
   ]
  },
  {
   "cell_type": "code",
   "execution_count": 107,
   "metadata": {},
   "outputs": [
    {
     "name": "stdout",
     "output_type": "stream",
     "text": [
      "<class 'pandas.core.frame.DataFrame'>\n",
      "Int64Index: 918 entries, 68 to 4332\n",
      "Data columns (total 14 columns):\n",
      "dest_busid          918 non-null object\n",
      "TripsPerdest        918 non-null int64\n",
      "all_poi_100         918 non-null float64\n",
      "all_poi_200         918 non-null float64\n",
      "all_poi_300         918 non-null float64\n",
      "all_poi_400         918 non-null float64\n",
      "all_poi_500         918 non-null float64\n",
      "all_poi_600         918 non-null float64\n",
      "access_score_100    918 non-null float64\n",
      "access_score_200    918 non-null float64\n",
      "access_score_300    918 non-null float64\n",
      "access_score_400    918 non-null float64\n",
      "access_score_500    918 non-null float64\n",
      "access_score_600    918 non-null float64\n",
      "dtypes: float64(12), int64(1), object(1)\n",
      "memory usage: 107.6+ KB\n"
     ]
    }
   ],
   "source": [
    "no_poi.info()"
   ]
  },
  {
   "cell_type": "code",
   "execution_count": 63,
   "metadata": {},
   "outputs": [
    {
     "name": "stdout",
     "output_type": "stream",
     "text": [
      "<class 'pandas.core.frame.DataFrame'>\n",
      "Int64Index: 3428 entries, 0 to 4345\n",
      "Data columns (total 14 columns):\n",
      "dest_busid          3428 non-null object\n",
      "TripsPerdest        3428 non-null int64\n",
      "all_poi_100         390 non-null float64\n",
      "all_poi_200         1329 non-null float64\n",
      "all_poi_300         2289 non-null float64\n",
      "all_poi_400         2849 non-null float64\n",
      "all_poi_500         3232 non-null float64\n",
      "all_poi_600         3428 non-null float64\n",
      "access_score_100    390 non-null float64\n",
      "access_score_200    1329 non-null float64\n",
      "access_score_300    2289 non-null float64\n",
      "access_score_400    2849 non-null float64\n",
      "access_score_500    3232 non-null float64\n",
      "access_score_600    3428 non-null float64\n",
      "dtypes: float64(12), int64(1), object(1)\n",
      "memory usage: 401.7+ KB\n"
     ]
    }
   ],
   "source": [
    "dest_summary.info()"
   ]
  },
  {
   "cell_type": "code",
   "execution_count": 65,
   "metadata": {},
   "outputs": [
    {
     "data": {
      "text/plain": [
       "count    3428.000000\n",
       "mean       88.429988\n",
       "std       114.147088\n",
       "min         1.000000\n",
       "25%        20.000000\n",
       "50%        49.000000\n",
       "75%       112.000000\n",
       "max       939.000000\n",
       "Name: TripsPerdest, dtype: float64"
      ]
     },
     "execution_count": 65,
     "metadata": {},
     "output_type": "execute_result"
    }
   ],
   "source": [
    "dest_summary['TripsPerdest'].describe()"
   ]
  },
  {
   "cell_type": "code",
   "execution_count": 66,
   "metadata": {},
   "outputs": [
    {
     "data": {
      "text/plain": [
       "13029.557688123572"
      ]
     },
     "execution_count": 66,
     "metadata": {},
     "output_type": "execute_result"
    }
   ],
   "source": [
    "dest_summary['TripsPerdest'].var()"
   ]
  },
  {
   "cell_type": "code",
   "execution_count": 68,
   "metadata": {},
   "outputs": [
    {
     "data": {
      "text/plain": [
       "Text(0, 0.5, 'Frequency of count value')"
      ]
     },
     "execution_count": 68,
     "metadata": {},
     "output_type": "execute_result"
    },
    {
     "data": {
      "image/png": "[encoded data removed]",
      "text/plain": [
       "<Figure size 576x360 with 1 Axes>"
      ]
     },
     "metadata": {
      "needs_background": "light"
     },
     "output_type": "display_data"
    }
   ],
   "source": [
    "#plot histogram of the exit trips\n",
    "ax = dest_summary['TripsPerdest'].plot.hist(bins = 80, figsize=(8,5))\n",
    "ax.set_xlabel('Bus stops trip count values')\n",
    "ax.set_ylabel('Frequency of count value')"
   ]
  },
  {
   "cell_type": "code",
   "execution_count": 31,
   "metadata": {},
   "outputs": [],
   "source": []
  },
  {
   "cell_type": "code",
   "execution_count": 69,
   "metadata": {},
   "outputs": [],
   "source": [
    "df_allpoi = dest_summary[['dest_busid', 'TripsPerdest', 'all_poi_100','all_poi_200','all_poi_300','all_poi_400','all_poi_500','all_poi_600']].copy()"
   ]
  },
  {
   "cell_type": "code",
   "execution_count": 70,
   "metadata": {},
   "outputs": [],
   "source": [
    "df_access_scores = dest_summary[['dest_busid', 'TripsPerdest', 'access_score_100', 'access_score_200', 'access_score_300',  'access_score_400', 'access_score_500', 'access_score_600']].copy()"
   ]
  },
  {
   "cell_type": "code",
   "execution_count": 84,
   "metadata": {},
   "outputs": [],
   "source": [
    "df_allpoi = dest_summary[['TripsPerdest','all_poi_100','all_poi_200','all_poi_300','all_poi_400','all_poi_500','all_poi_600']].copy()\n",
    "df_buffers = df_allpoi.copy()"
   ]
  },
  {
   "cell_type": "code",
   "execution_count": 85,
   "metadata": {},
   "outputs": [],
   "source": [
    "df_buffers.sort_values(by=['TripsPerdest'], inplace=True)\n",
    "df_buffers = df_buffers.reset_index()"
   ]
  },
  {
   "cell_type": "code",
   "execution_count": 88,
   "metadata": {},
   "outputs": [
    {
     "name": "stdout",
     "output_type": "stream",
     "text": [
      "2444\n"
     ]
    },
    {
     "data": {
      "text/plain": [
       "507"
      ]
     },
     "execution_count": 88,
     "metadata": {},
     "output_type": "execute_result"
    }
   ],
   "source": [
    "#checking to see if low trips have pois for different buffers\n",
    "onetrip = df_buffers[df_buffers.TripsPerdest < 100]\n",
    "print(len(onetrip))\n",
    "#onetrip.loc[onetrip.isnull().any(axis=1)]\n",
    "len(onetrip[onetrip['all_poi_400'].isnull()])"
   ]
  },
  {
   "cell_type": "code",
   "execution_count": 98,
   "metadata": {},
   "outputs": [],
   "source": [
    "#df_buffers['all_poi_100']"
   ]
  },
  {
   "cell_type": "code",
   "execution_count": 89,
   "metadata": {},
   "outputs": [],
   "source": [
    "df_buffers[['all_poi_100','all_poi_200', 'all_poi_300', 'all_poi_400', 'all_poi_500', 'all_poi_600']] = df_buffers[['all_poi_100',\n",
    "       'all_poi_200', 'all_poi_300', 'all_poi_400', 'all_poi_500',\n",
    "       'all_poi_600']].fillna(0)"
   ]
  },
  {
   "cell_type": "code",
   "execution_count": 91,
   "metadata": {},
   "outputs": [],
   "source": [
    "df_buffers['poiBuffer_100'] = df_buffers.all_poi_100\n",
    "df_buffers['poiBuffer_200'] = df_buffers.all_poi_200 - df_buffers.all_poi_100\n",
    "df_buffers['poiBuffer_300'] = df_buffers.all_poi_300 - df_buffers.all_poi_200\n",
    "df_buffers['poiBuffer_400'] = df_buffers.all_poi_400 - df_buffers.all_poi_300\n",
    "df_buffers['poiBuffer_500'] = df_buffers.all_poi_500 - df_buffers.all_poi_400\n",
    "df_buffers['poiBuffer_600'] = df_buffers.all_poi_600 - df_buffers.all_poi_500"
   ]
  },
  {
   "cell_type": "code",
   "execution_count": 93,
   "metadata": {},
   "outputs": [
    {
     "data": {
      "text/plain": [
       "index            3427\n",
       "TripsPerdest     3428\n",
       "all_poi_100       390\n",
       "all_poi_200      1329\n",
       "all_poi_300      2289\n",
       "all_poi_400      2849\n",
       "all_poi_500      3232\n",
       "all_poi_600      3428\n",
       "poiBuffer_100     390\n",
       "poiBuffer_200    1101\n",
       "poiBuffer_300    1694\n",
       "poiBuffer_400    2026\n",
       "poiBuffer_500    2340\n",
       "poiBuffer_600    2536\n",
       "dtype: int64"
      ]
     },
     "execution_count": 93,
     "metadata": {},
     "output_type": "execute_result"
    }
   ],
   "source": [
    "#df_access_scores.astype(bool).sum(axis=0)\n",
    "df_buffers.astype(bool).sum(axis=0)"
   ]
  },
  {
   "cell_type": "code",
   "execution_count": 94,
   "metadata": {},
   "outputs": [
    {
     "data": {
      "text/plain": [
       "Index(['index', 'TripsPerdest', 'all_poi_100', 'all_poi_200', 'all_poi_300',\n",
       "       'all_poi_400', 'all_poi_500', 'all_poi_600', 'poiBuffer_100',\n",
       "       'poiBuffer_200', 'poiBuffer_300', 'poiBuffer_400', 'poiBuffer_500',\n",
       "       'poiBuffer_600'],\n",
       "      dtype='object')"
      ]
     },
     "execution_count": 94,
     "metadata": {},
     "output_type": "execute_result"
    }
   ],
   "source": [
    "df_buffers.columns"
   ]
  },
  {
   "cell_type": "code",
   "execution_count": 110,
   "metadata": {},
   "outputs": [],
   "source": [
    "#cluster analysis"
   ]
  },
  {
   "cell_type": "code",
   "execution_count": 225,
   "metadata": {},
   "outputs": [],
   "source": [
    "import sklearn\n",
    "from sklearn.cluster import KMeans\n",
    "from sklearn.preprocessing import scale\n",
    "from sklearn.preprocessing import MinMaxScaler\n",
    "import sklearn.metrics as sm\n",
    "from sklearn import datasets\n",
    "from sklearn.metrics import confusion_matrix, classification_report"
   ]
  },
  {
   "cell_type": "code",
   "execution_count": 112,
   "metadata": {},
   "outputs": [],
   "source": [
    "from mpl_toolkits.mplot3d import Axes3D"
   ]
  },
  {
   "cell_type": "code",
   "execution_count": 114,
   "metadata": {},
   "outputs": [],
   "source": [
    "#set ploting parameters for data visualization\n",
    "#%matplotlib inline\n",
    "#rcParams['figure.figsize'] = 7,4"
   ]
  },
  {
   "cell_type": "code",
   "execution_count": 116,
   "metadata": {},
   "outputs": [
    {
     "data": {
      "text/html": [
       "<div>\n",
       "<style scoped>\n",
       "    .dataframe tbody tr th:only-of-type {\n",
       "        vertical-align: middle;\n",
       "    }\n",
       "\n",
       "    .dataframe tbody tr th {\n",
       "        vertical-align: top;\n",
       "    }\n",
       "\n",
       "    .dataframe thead th {\n",
       "        text-align: right;\n",
       "    }\n",
       "</style>\n",
       "<table border=\"1\" class=\"dataframe\">\n",
       "  <thead>\n",
       "    <tr style=\"text-align: right;\">\n",
       "      <th></th>\n",
       "      <th>index</th>\n",
       "      <th>dest_busid</th>\n",
       "      <th>TripsPerdest</th>\n",
       "      <th>TripsPerOrig</th>\n",
       "      <th>all_poi_100</th>\n",
       "      <th>all_poi_200</th>\n",
       "      <th>all_poi_300</th>\n",
       "      <th>all_poi_400</th>\n",
       "      <th>all_poi_500</th>\n",
       "      <th>all_poi_600</th>\n",
       "      <th>poiBuffer_100</th>\n",
       "      <th>poiBuffer_200</th>\n",
       "      <th>poiBuffer_300</th>\n",
       "      <th>poiBuffer_400</th>\n",
       "      <th>poiBuffer_500</th>\n",
       "      <th>poiBuffer_600</th>\n",
       "    </tr>\n",
       "  </thead>\n",
       "  <tbody>\n",
       "    <tr>\n",
       "      <th>0</th>\n",
       "      <td>3677</td>\n",
       "      <td>5281</td>\n",
       "      <td>1</td>\n",
       "      <td>6.0</td>\n",
       "      <td>0.0</td>\n",
       "      <td>0.0</td>\n",
       "      <td>1.0</td>\n",
       "      <td>3.0</td>\n",
       "      <td>3.0</td>\n",
       "      <td>4.0</td>\n",
       "      <td>0.0</td>\n",
       "      <td>0.0</td>\n",
       "      <td>1.0</td>\n",
       "      <td>2.0</td>\n",
       "      <td>0.0</td>\n",
       "      <td>1.0</td>\n",
       "    </tr>\n",
       "    <tr>\n",
       "      <th>1</th>\n",
       "      <td>1016</td>\n",
       "      <td>2238</td>\n",
       "      <td>1</td>\n",
       "      <td>0.0</td>\n",
       "      <td>0.0</td>\n",
       "      <td>0.0</td>\n",
       "      <td>0.0</td>\n",
       "      <td>0.0</td>\n",
       "      <td>0.0</td>\n",
       "      <td>0.0</td>\n",
       "      <td>0.0</td>\n",
       "      <td>0.0</td>\n",
       "      <td>0.0</td>\n",
       "      <td>0.0</td>\n",
       "      <td>0.0</td>\n",
       "      <td>0.0</td>\n",
       "    </tr>\n",
       "    <tr>\n",
       "      <th>2</th>\n",
       "      <td>1017</td>\n",
       "      <td>2240</td>\n",
       "      <td>1</td>\n",
       "      <td>0.0</td>\n",
       "      <td>0.0</td>\n",
       "      <td>0.0</td>\n",
       "      <td>0.0</td>\n",
       "      <td>0.0</td>\n",
       "      <td>0.0</td>\n",
       "      <td>0.0</td>\n",
       "      <td>0.0</td>\n",
       "      <td>0.0</td>\n",
       "      <td>0.0</td>\n",
       "      <td>0.0</td>\n",
       "      <td>0.0</td>\n",
       "      <td>0.0</td>\n",
       "    </tr>\n",
       "    <tr>\n",
       "      <th>3</th>\n",
       "      <td>1019</td>\n",
       "      <td>2244</td>\n",
       "      <td>1</td>\n",
       "      <td>0.0</td>\n",
       "      <td>0.0</td>\n",
       "      <td>0.0</td>\n",
       "      <td>0.0</td>\n",
       "      <td>0.0</td>\n",
       "      <td>0.0</td>\n",
       "      <td>0.0</td>\n",
       "      <td>0.0</td>\n",
       "      <td>0.0</td>\n",
       "      <td>0.0</td>\n",
       "      <td>0.0</td>\n",
       "      <td>0.0</td>\n",
       "      <td>0.0</td>\n",
       "    </tr>\n",
       "    <tr>\n",
       "      <th>4</th>\n",
       "      <td>1869</td>\n",
       "      <td>3274</td>\n",
       "      <td>1</td>\n",
       "      <td>0.0</td>\n",
       "      <td>0.0</td>\n",
       "      <td>0.0</td>\n",
       "      <td>0.0</td>\n",
       "      <td>0.0</td>\n",
       "      <td>0.0</td>\n",
       "      <td>0.0</td>\n",
       "      <td>0.0</td>\n",
       "      <td>0.0</td>\n",
       "      <td>0.0</td>\n",
       "      <td>0.0</td>\n",
       "      <td>0.0</td>\n",
       "      <td>0.0</td>\n",
       "    </tr>\n",
       "  </tbody>\n",
       "</table>\n",
       "</div>"
      ],
      "text/plain": [
       "   index dest_busid  TripsPerdest  TripsPerOrig  all_poi_100  all_poi_200  \\\n",
       "0   3677       5281             1           6.0          0.0          0.0   \n",
       "1   1016       2238             1           0.0          0.0          0.0   \n",
       "2   1017       2240             1           0.0          0.0          0.0   \n",
       "3   1019       2244             1           0.0          0.0          0.0   \n",
       "4   1869       3274             1           0.0          0.0          0.0   \n",
       "\n",
       "   all_poi_300  all_poi_400  all_poi_500  all_poi_600  poiBuffer_100  \\\n",
       "0          1.0          3.0          3.0          4.0            0.0   \n",
       "1          0.0          0.0          0.0          0.0            0.0   \n",
       "2          0.0          0.0          0.0          0.0            0.0   \n",
       "3          0.0          0.0          0.0          0.0            0.0   \n",
       "4          0.0          0.0          0.0          0.0            0.0   \n",
       "\n",
       "   poiBuffer_200  poiBuffer_300  poiBuffer_400  poiBuffer_500  poiBuffer_600  \n",
       "0            0.0            1.0            2.0            0.0            1.0  \n",
       "1            0.0            0.0            0.0            0.0            0.0  \n",
       "2            0.0            0.0            0.0            0.0            0.0  \n",
       "3            0.0            0.0            0.0            0.0            0.0  \n",
       "4            0.0            0.0            0.0            0.0            0.0  "
      ]
     },
     "execution_count": 116,
     "metadata": {},
     "output_type": "execute_result"
    }
   ],
   "source": [
    "df_buffers.head()"
   ]
  },
  {
   "cell_type": "code",
   "execution_count": 211,
   "metadata": {},
   "outputs": [],
   "source": [
    "#set what rows and columns you want included in the clustering\n",
    "#for dest trips and all_poi100 \n",
    "X = df_buffers.iloc[:,[2,13]].values"
   ]
  },
  {
   "cell_type": "code",
   "execution_count": 160,
   "metadata": {},
   "outputs": [],
   "source": [
    "#how many clusters do we want to generate\n",
    "#check from shape of data and find number of optimal custers\n",
    "#keep sum of squared values in an array\n",
    "wcss = []\n",
    "\n",
    "#run for 15 clusters\n",
    "for i in range(1,16):\n",
    "    kmeans = KMeans(n_clusters=i, init='k-means++', random_state = 5)\n",
    "    #fit data using the kmeans variable\n",
    "    kmeans.fit(X)\n",
    "    #extract the sum of squared errors\n",
    "    wcss.append(kmeans.inertia_)"
   ]
  },
  {
   "cell_type": "code",
   "execution_count": 161,
   "metadata": {},
   "outputs": [],
   "source": [
    "#wcss"
   ]
  },
  {
   "cell_type": "code",
   "execution_count": 163,
   "metadata": {},
   "outputs": [
    {
     "data": {
      "text/plain": [
       "<function matplotlib.pyplot.show(*args, **kw)>"
      ]
     },
     "execution_count": 163,
     "metadata": {},
     "output_type": "execute_result"
    },
    {
     "data": {
      "image/png": "[encoded data removed]",
      "text/plain": [
       "<Figure size 432x288 with 1 Axes>"
      ]
     },
     "metadata": {
      "needs_background": "light"
     },
     "output_type": "display_data"
    }
   ],
   "source": [
    "#visualize to make decisions for the k\n",
    "plt.plot(range(1,16), wcss)\n",
    "plt.title('Elbow Method to identify number of clusters')\n",
    "plt.xlabel('Number of clusters')\n",
    "plt.ylabel('sum of distances of samples to closest cluster center')\n",
    "plt.show"
   ]
  },
  {
   "cell_type": "code",
   "execution_count": null,
   "metadata": {},
   "outputs": [],
   "source": [
    "#The number of clusters should be 4 based on the elbow"
   ]
  },
  {
   "cell_type": "code",
   "execution_count": 212,
   "metadata": {},
   "outputs": [],
   "source": [
    "kmeans = KMeans(n_clusters=4, init = 'k-means++',random_state=5)"
   ]
  },
  {
   "cell_type": "code",
   "execution_count": 213,
   "metadata": {},
   "outputs": [],
   "source": [
    "#generate value of y to show which instance belongs to the clusters\n",
    "y =kmeans.fit_predict(X)"
   ]
  },
  {
   "cell_type": "code",
   "execution_count": 224,
   "metadata": {},
   "outputs": [
    {
     "data": {
      "image/png": "[encoded data removed]",
      "text/plain": [
       "<Figure size 648x504 with 1 Axes>"
      ]
     },
     "metadata": {
      "needs_background": "light"
     },
     "output_type": "display_data"
    }
   ],
   "source": [
    "#set what rows and columns you want included in the clustering\n",
    "X = df_buffers.iloc[:,[2,15]].values\n",
    "\n",
    "#run the analysis\n",
    "kmeans = KMeans(n_clusters=6, init = 'k-means++',random_state=5)\n",
    "\n",
    "#generate value of y to show which instance belongs to the clusters\n",
    "y =kmeans.fit_predict(X)\n",
    "\n",
    "#make y easy to read through visualization using scatter. We have X and we are trying to fetch according to index of X and y\n",
    "plt.figure(figsize=(9,7))\n",
    "plt.scatter(X[y == 0,0], X[y==0,1], s = 25, c='red', label='Cluster 1')\n",
    "plt.scatter(X[y == 1,0], X[y==1,1], s = 25, c='blue', label='Cluster 2')\n",
    "plt.scatter(X[y == 2,0], X[y==2,1], s = 25, c='magenta', label='Cluster 3')\n",
    "plt.scatter(X[y == 3,0], X[y==3,1], s = 25, c='cyan', label='Cluster 4')\n",
    "plt.scatter(X[y == 4,0], X[y==4,1], s = 25, c='black', label='Cluster 5')\n",
    "plt.scatter(X[y == 5,0], X[y==5,1], s = 25, c='green', label='Cluster 6')\n",
    "\n",
    "\n",
    "\n",
    "plt.scatter(kmeans.cluster_centers_[:,0], kmeans.cluster_centers_[:,1], s=25, c='yellow', label='Centroid')\n",
    "plt.title('KMeans Clustering for 600m Buffer Zone')\n",
    "plt.xlabel('Number of Trips per BusStop')\n",
    "plt.ylabel('POI in 600m Buffer')\n",
    "\n",
    "plt.legend()\n",
    "plt.show()"
   ]
  },
  {
   "cell_type": "code",
   "execution_count": 201,
   "metadata": {},
   "outputs": [
    {
     "data": {
      "text/plain": [
       "2183"
      ]
     },
     "execution_count": 201,
     "metadata": {},
     "output_type": "execute_result"
    }
   ],
   "source": [
    "len(df_DestBus600.poi.unique())"
   ]
  },
  {
   "cell_type": "code",
   "execution_count": 229,
   "metadata": {},
   "outputs": [],
   "source": [
    "#normailizing the values because of the extreme values present\n",
    "X = df_buffers.iloc[:,[2,15]].values\n",
    "norm_data = MinMaxScaler() #initialize the values to 1 and the weights have not changed\n",
    "X=norm_data.fit_transform(X)"
   ]
  },
  {
   "cell_type": "code",
   "execution_count": 230,
   "metadata": {},
   "outputs": [
    {
     "data": {
      "text/plain": [
       "<function matplotlib.pyplot.show(*args, **kw)>"
      ]
     },
     "execution_count": 230,
     "metadata": {},
     "output_type": "execute_result"
    },
    {
     "data": {
      "image/png": "[encoded data removed]",
      "text/plain": [
       "<Figure size 432x288 with 1 Axes>"
      ]
     },
     "metadata": {
      "needs_background": "light"
     },
     "output_type": "display_data"
    }
   ],
   "source": [
    "#how many clusters do we want to generate\n",
    "#check from shape of data and find number of optimal custers\n",
    "#keep sum of squared values in an array\n",
    "wcss = []\n",
    "\n",
    "#run for 15 clusters\n",
    "for i in range(1,16):\n",
    "    kmeans = KMeans(n_clusters=i, init='k-means++', random_state = 5)\n",
    "    #fit data using the kmeans variable\n",
    "    kmeans.fit(X)\n",
    "    #extract the sum of squared errors\n",
    "    wcss.append(kmeans.inertia_)\n",
    "    \n",
    "#visualize to make decisions for the k\n",
    "plt.plot(range(1,16), wcss)\n",
    "plt.title('Elbow Method to identify number of clusters (Normalized)')\n",
    "plt.xlabel('Number of clusters')\n",
    "plt.ylabel('sum of distances of samples to closest cluster center')\n",
    "plt.show"
   ]
  },
  {
   "cell_type": "code",
   "execution_count": 241,
   "metadata": {},
   "outputs": [
    {
     "data": {
      "image/png": "[encoded data removed]",
      "text/plain": [
       "<Figure size 648x504 with 1 Axes>"
      ]
     },
     "metadata": {
      "needs_background": "light"
     },
     "output_type": "display_data"
    }
   ],
   "source": [
    "#normailizing the values because of the extreme values present\n",
    "X = df_buffers.iloc[:,[2,9]].values\n",
    "norm_data = MinMaxScaler() #initialize the values to 1 and the weights have not changed\n",
    "X=norm_data.fit_transform(X)\n",
    "#run the analysis\n",
    "kmeans = KMeans(n_clusters=5, init = 'k-means++',random_state=5)\n",
    "\n",
    "#generate value of y to show which instance belongs to the clusters\n",
    "y =kmeans.fit_predict(X)\n",
    "\n",
    "#make y easy to read through visualization using scatter. We have X and we are trying to fetch according to index of X and y\n",
    "plt.figure(figsize=(9,7))\n",
    "plt.scatter(X[y == 0,0], X[y==0,1], s = 25, c='red', label='Cluster 1')\n",
    "plt.scatter(X[y == 1,0], X[y==1,1], s = 25, c='blue', label='Cluster 2')\n",
    "plt.scatter(X[y == 2,0], X[y==2,1], s = 25, c='magenta', label='Cluster 3')\n",
    "plt.scatter(X[y == 3,0], X[y==3,1], s = 25, c='cyan', label='Cluster 4')\n",
    "plt.scatter(X[y == 4,0], X[y==4,1], s = 25, c='green', label='Cluster 5')\n",
    "\n",
    "plt.scatter(kmeans.cluster_centers_[:,0], kmeans.cluster_centers_[:,1], s=25, c='yellow', label='Centroid')\n",
    "plt.title('Normalized Data KMeans Clustering for 600m Cummulative')\n",
    "plt.xlabel('Number of Trips per BusStop')\n",
    "plt.ylabel('POI in 600m Cummulative')\n",
    "\n",
    "plt.legend()\n",
    "plt.show()"
   ]
  },
  {
   "cell_type": "code",
   "execution_count": 242,
   "metadata": {},
   "outputs": [],
   "source": [
    "#find target label associated with each cluster class\n",
    "#first find unique values of clusters\n",
    "cluster_labels = np.unique(y)"
   ]
  },
  {
   "cell_type": "code",
   "execution_count": 243,
   "metadata": {},
   "outputs": [
    {
     "data": {
      "text/plain": [
       "array([1, 2, 2, ..., 4, 4, 4])"
      ]
     },
     "execution_count": 243,
     "metadata": {},
     "output_type": "execute_result"
    }
   ],
   "source": [
    "for index in cluster_labels:"
   ]
  },
  {
   "cell_type": "code",
   "execution_count": null,
   "metadata": {},
   "outputs": [],
   "source": []
  }
 ],
 "metadata": {
  "kernelspec": {
   "display_name": "Python 3",
   "language": "python",
   "name": "python3"
  },
  "language_info": {
   "codemirror_mode": {
    "name": "ipython",
    "version": 3
   },
   "file_extension": ".py",
   "mimetype": "text/x-python",
   "name": "python",
   "nbconvert_exporter": "python",
   "pygments_lexer": "ipython3",
   "version": "3.7.0"
  }
 },
 "nbformat": 4,
 "nbformat_minor": 2
}
