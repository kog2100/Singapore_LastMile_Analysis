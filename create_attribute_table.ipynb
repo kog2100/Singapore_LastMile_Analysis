{
 "cells": [
  {
   "cell_type": "code",
   "execution_count": null,
   "metadata": {},
   "outputs": [],
   "source": [
    "import pandas as pd\n",
    "import geopandas as gpd\n",
    "import numpy as np"
   ]
  },
  {
   "cell_type": "code",
   "execution_count": null,
   "metadata": {},
   "outputs": [],
   "source": [
    "import math\n",
    "import matplotlib.pyplot as plt\n",
    "from scipy import stats\n",
    "from functools import reduce"
   ]
  },
  {
   "cell_type": "code",
   "execution_count": null,
   "metadata": {},
   "outputs": [],
   "source": [
    "#load in the OD matrix for POI and bus stops extracted from GIS\n",
    "fp_dest100 = \"OD_allPOI_100.csv\"\n",
    "fp_dest300 = \"OD_allPOI_300.csv\"\n",
    "fp_dest500 = \"OD_allPOI_500.csv\"\n",
    "fp_dest400 = \"OD_allPOI_400.csv\"\n",
    "fp_dest200 = \"OD_allPOI_200.csv\"\n",
    "fp_dest600 = \"OD_allPOI_600.csv\"\n",
    "fp_trips = \"trips.csv\""
   ]
  },
  {
   "cell_type": "code",
   "execution_count": null,
   "metadata": {},
   "outputs": [],
   "source": [
    "df_DestBus100 = pd.read_csv(fp_dest100)\n",
    "df_DestBus300 = pd.read_csv(fp_dest300)\n",
    "df_DestBus500 = pd.read_csv(fp_dest500)\n",
    "df_DestBus200 = pd.read_csv(fp_dest200)\n",
    "df_DestBus400 = pd.read_csv(fp_dest400)\n",
    "df_DestBus600 = pd.read_csv(fp_dest600)\n",
    "df_trips = pd.read_csv(fp_trips)"
   ]
  },
  {
   "cell_type": "code",
   "execution_count": null,
   "metadata": {},
   "outputs": [],
   "source": [
    "df_DestBus100.dest_busid = df_DestBus100.dest_busid.astype(str)\n",
    "df_DestBus200.dest_busid = df_DestBus200.dest_busid.astype(str)\n",
    "df_DestBus300.dest_busid = df_DestBus300.dest_busid.astype(str)\n",
    "df_DestBus400.dest_busid = df_DestBus400.dest_busid.astype(str)\n",
    "df_DestBus500.dest_busid = df_DestBus500.dest_busid.astype(str)\n",
    "df_DestBus600.dest_busid = df_DestBus600.dest_busid.astype(str)\n",
    "df_trips.dest_busid = df_trips.dest_busid.astype(str)"
   ]
  },
  {
   "cell_type": "code",
   "execution_count": null,
   "metadata": {},
   "outputs": [],
   "source": [
    "# map weights to different POI categories - for no weight measurement change weights to 1\n",
    "poi_weight = {'child_care': 0.07, 'daily_needs': 0.27, 'culture': 0.07, 'sports':0.28, 'health_care': 0.17,\n",
    "       'social' : 0.14}\n"
   ]
  },
  {
   "cell_type": "code",
   "execution_count": null,
   "metadata": {},
   "outputs": [],
   "source": [
    "df_trips.info()"
   ]
  },
  {
   "cell_type": "code",
   "execution_count": null,
   "metadata": {},
   "outputs": [],
   "source": [
    "# set a beta value (b) based on f(x) = Ke^-bx K is 1 f(0) = k, for beta value use f(600) as the max dist\n",
    "beta = round ((np.log(0.01)/-600), 4)"
   ]
  },
  {
   "cell_type": "code",
   "execution_count": null,
   "metadata": {},
   "outputs": [],
   "source": [
    "def decay_distance (beta, distance):\n",
    "    '''\n",
    "    Input: takes in a beta value and a dataframe series containing distance values\n",
    "    Output: uses the exponential decay funtion to return a decayed distance value\n",
    "    '''\n",
    "    \n",
    "    return distance.map(lambda x: math.exp(-beta * x))"
   ]
  },
  {
   "cell_type": "code",
   "execution_count": null,
   "metadata": {},
   "outputs": [],
   "source": [
    "test_decay = df_DestBus100.copy()\n",
    "#test_decay['decay'] = decay_distance(0.077, test_decay['raw_length'])"
   ]
  },
  {
   "cell_type": "code",
   "execution_count": null,
   "metadata": {},
   "outputs": [],
   "source": [
    "#test_decay['poi_weights'] = test_decay['poi_group'].map(poi_weight)\n",
    "#test_decay.head(20)"
   ]
  },
  {
   "cell_type": "code",
   "execution_count": null,
   "metadata": {},
   "outputs": [],
   "source": [
    "#test_decay['poi_access_score'] = test_decay.decay * test_decay.poi_weights\n"
   ]
  },
  {
   "cell_type": "code",
   "execution_count": null,
   "metadata": {},
   "outputs": [],
   "source": []
  },
  {
   "cell_type": "code",
   "execution_count": null,
   "metadata": {},
   "outputs": [],
   "source": [
    "def dest_summary_table (beta, df_DestBus, df_trips, out_name):\n",
    "    \n",
    "    '''\n",
    "    Generate the accessibility score table by first calculating the access scores for the bus stops and \n",
    "    their POI and then merging with the trips data\n",
    "    Requires three inputs\n",
    "    1. A dataframe containing the bus stops (dest_busid) and their distance (Total_Leng) to POIs (poi). \n",
    "    2. A trip table dataframe containing the exit bus stops (dest_busid), origin bus stops (orig_busid) and \n",
    "    the person trip ID (Card_Number)\n",
    "    3. An appended string name that is used to identify the different distance buffer. E.g '100' to generate\n",
    "    a table for 100m buffer \n",
    "    \n",
    "    The function returns a dataframe containing access scores per bus stop, total number of destination trips,\n",
    "    origin trips and pois per bus stop and average distance per bus stop\n",
    "    \n",
    "    '''\n",
    "\n",
    "    \n",
    "    #rename to show that the length is the raw length from GIS in meters\n",
    "    df_DestBus.rename(columns={'Total_Leng':'raw_length'}, inplace = True)\n",
    "\n",
    "    #there was infinity in the value and because of these two zero POI\n",
    "    #print(df_DestBus[df_DestBus['raw_length']==0])\n",
    "\n",
    "    #df_DestBus = df_DestBus[df_DestBus['raw_length']!=0].copy()\n",
    "    \n",
    "    #map POI weights to the POI categories\n",
    "    df_DestBus['poi_weights'] = df_DestBus['poi_group'].map(poi_weight)\n",
    "    \n",
    "    #apply distance decay for an accessibility score\n",
    "\n",
    "    df_DestBus['length'] = decay_distance(beta, df_DestBus['raw_length'])\n",
    "    \n",
    "    #calculating POI access_score\n",
    "    df_DestBus['poi_access'] = df_DestBus.length * df_DestBus.poi_weights\n",
    "    \n",
    "    \n",
    "    #using sum\n",
    "    dest_access = df_DestBus.groupby('dest_busid')['poi_access'].sum().reset_index().rename(columns={'poi_access':'access_score'})\n",
    "\n",
    "    #count number of POIs per bus stop\n",
    "    dest_poi = df_DestBus.groupby('dest_busid')['poi'].count().reset_index()\n",
    "    \n",
    "    #get average length per bus stop\n",
    "    dest_dist = df_DestBus.groupby('dest_busid')['raw_length'].mean().reset_index().rename(columns={'raw_length':'avg_distance'})\n",
    "\n",
    "    #count number of trips per dest\n",
    "    #dest_trips = df_trips.groupby(['dest_busid'])['Card_Number'].count().reset_index().rename(columns={'Card_Number':'TripsPerdest'})\n",
    "    \n",
    "    #count number of trips per orig\n",
    "    #orig_trips = df_trips.groupby(['orig_busid'])['Card_Number'].count().reset_index().rename(columns={'orig_busid':'dest_busid','Card_Number':'TripsPerOrig'})\n",
    "\n",
    "    \n",
    "    # merge the aggregates which reflects the distinct trips per bus stop using #from functools import reduce\n",
    "    #dfs = [dest_trips,orig_trips,dest_poi, dest_dist, dest_access]\n",
    "    dfs = [df_trips,dest_poi, dest_dist, dest_access]\n",
    "    dest_summary = reduce(lambda left,right: pd.merge(left,right,on='dest_busid', how='left'), dfs)\n",
    "\n",
    "    dest_summary.dest_busid = dest_summary.dest_busid.astype(str)\n",
    "    poi_name = 'poi'+ '_'+ out_name\n",
    "    avg_dist_name = 'avg_distance'+ '_'+ out_name\n",
    "    access_name = 'access_score'+ '_'+ out_name\n",
    "    dest_summary.rename(columns={'poi':poi_name, 'avg_distance':avg_dist_name,\n",
    "       'access_score':access_name}, inplace=True)\n",
    "    \n",
    "    return dest_summary"
   ]
  },
  {
   "cell_type": "code",
   "execution_count": null,
   "metadata": {},
   "outputs": [],
   "source": [
    "dest100_summary = dest_summary_table (beta, df_DestBus100, df_trips, '100')\n",
    "dest200_summary = dest_summary_table (beta, df_DestBus200, df_trips, '200')\n",
    "dest300_summary = dest_summary_table (beta, df_DestBus300, df_trips, '300')\n",
    "dest400_summary = dest_summary_table (beta, df_DestBus400, df_trips, '400')\n",
    "dest500_summary = dest_summary_table (beta, df_DestBus500, df_trips, '500')\n",
    "dest600_summary = dest_summary_table (beta, df_DestBus600, df_trips, '600')"
   ]
  },
  {
   "cell_type": "code",
   "execution_count": null,
   "metadata": {},
   "outputs": [],
   "source": [
    "def csv_save (name, file):\n",
    "    output = name\n",
    "    file.to_csv(output, index=False)"
   ]
  },
  {
   "cell_type": "code",
   "execution_count": null,
   "metadata": {},
   "outputs": [],
   "source": [
    "#output file for regression analysis\n",
    "#csv_save('dest100_summary_single.csv',dest100_summary)\n",
    "#csv_save('dest200_summary_single.csv',dest200_summary)\n",
    "#csv_save('dest300_summary_single.csv',dest300_summary)\n",
    "#csv_save('dest400_summary_single.csv',dest400_summary)\n",
    "#csv_save('dest500_summary_single.csv',dest500_summary)\n",
    "#csv_save('dest600_summary_single.csv',dest600_summary)"
   ]
  },
  {
   "cell_type": "code",
   "execution_count": null,
   "metadata": {},
   "outputs": [],
   "source": [
    "#merge all the distance buffer access dataframes for better descriptive analysis\n",
    "dfs = [dest100_summary,dest200_summary,dest300_summary,dest400_summary,dest500_summary,dest600_summary]\n",
    "dest_summary = reduce(lambda left,right: pd.merge(left,right,on='dest_busid', how='left'), dfs)"
   ]
  },
  {
   "cell_type": "code",
   "execution_count": null,
   "metadata": {},
   "outputs": [],
   "source": [
    "dest_summary.columns"
   ]
  },
  {
   "cell_type": "code",
   "execution_count": null,
   "metadata": {},
   "outputs": [],
   "source": [
    "dest_summary.columns = ['dest_busid', 'TripsPerdest', 'TripsPerOrig', 'all_poi_100',\n",
    "       'avg_distance_100', 'access_score_100', 'TripsPerdest_y',\n",
    "       'TripsPerOrig_y', 'all_poi_200', 'avg_distance_200', 'access_score_200',\n",
    "       'TripsPerdest_x', 'TripsPerOrig_x', 'all_poi_300', 'avg_distance_300',\n",
    "       'access_score_300', 'TripsPerdest_y1', 'TripsPerOrig_y2', 'all_poi_400',\n",
    "       'avg_distance_400', 'access_score_400', 'TripsPerdest_x2',\n",
    "       'TripsPerOrig_x1', 'all_poi_500', 'avg_distance_500', 'access_score_500',\n",
    "       'TripsPerdest_y3', 'TripsPerOrig_y4', 'all_poi_600', 'avg_distance_600',\n",
    "       'access_score_600']"
   ]
  },
  {
   "cell_type": "code",
   "execution_count": null,
   "metadata": {},
   "outputs": [],
   "source": [
    "dest_summary = dest_summary[['dest_busid', 'TripsPerdest', 'all_poi_100','all_poi_200','all_poi_300','all_poi_400','all_poi_500','all_poi_600',\n",
    "                            'access_score_100', 'access_score_200', 'access_score_300',  'access_score_400', 'access_score_500', 'access_score_600']].copy()"
   ]
  },
  {
   "cell_type": "code",
   "execution_count": null,
   "metadata": {},
   "outputs": [],
   "source": [
    "dest_summary.describe()"
   ]
  },
  {
   "cell_type": "code",
   "execution_count": null,
   "metadata": {},
   "outputs": [],
   "source": [
    "#test = dest_summary[['all_poi_100','all_poi_200','all_poi_300','all_poi_400','all_poi_500','all_poi_600']].copy()\n",
    "#test.dropna(how='all')"
   ]
  },
  {
   "cell_type": "code",
   "execution_count": null,
   "metadata": {},
   "outputs": [],
   "source": [
    "#remove bus stops that don't have any access score or any POI in all 6 buffers\n",
    "test2 = dest_summary.fillna(0)\n",
    "mask = test2[test2.drop(['dest_busid', 'TripsPerdest'], axis=1) != 0]\n",
    "dest_summary = dest_summary.loc[mask.dropna(thresh=1).index]"
   ]
  },
  {
   "cell_type": "code",
   "execution_count": null,
   "metadata": {},
   "outputs": [],
   "source": [
    "#extract bus stops with no poi\n",
    "#no_poi = test2[test2['all_poi_600']==0]\n",
    "#no_poi.to_csv('busStops_no_POIs_weight.csv', index=False)"
   ]
  },
  {
   "cell_type": "code",
   "execution_count": null,
   "metadata": {},
   "outputs": [],
   "source": [
    "dest_summary.info()"
   ]
  },
  {
   "cell_type": "code",
   "execution_count": null,
   "metadata": {},
   "outputs": [],
   "source": [
    "dest_summary['TripsPerdest'].describe()"
   ]
  },
  {
   "cell_type": "code",
   "execution_count": null,
   "metadata": {},
   "outputs": [],
   "source": [
    "dest_summary['TripsPerdest'].var()"
   ]
  },
  {
   "cell_type": "code",
   "execution_count": null,
   "metadata": {},
   "outputs": [],
   "source": [
    "#plot histogram of the exit trips\n",
    "ax = dest_summary['TripsPerdest'].plot.hist(bins = 200, figsize=(8,5))\n",
    "ax.set_xlabel('Bus stops trip count values')\n",
    "ax.set_ylabel('Frequency of count value')"
   ]
  },
  {
   "cell_type": "code",
   "execution_count": null,
   "metadata": {},
   "outputs": [],
   "source": []
  },
  {
   "cell_type": "code",
   "execution_count": null,
   "metadata": {},
   "outputs": [],
   "source": [
    "df_allpoi = dest_summary[['dest_busid', 'TripsPerdest', 'all_poi_100','all_poi_200','all_poi_300','all_poi_400','all_poi_500','all_poi_600']].copy()"
   ]
  },
  {
   "cell_type": "code",
   "execution_count": null,
   "metadata": {},
   "outputs": [],
   "source": [
    "df_access_scores = dest_summary[['dest_busid', 'TripsPerdest', 'access_score_100', 'access_score_200', 'access_score_300',  'access_score_400', 'access_score_500', 'access_score_600']].copy()"
   ]
  },
  {
   "cell_type": "code",
   "execution_count": null,
   "metadata": {},
   "outputs": [],
   "source": [
    "df_access_scores.describe()"
   ]
  },
  {
   "cell_type": "code",
   "execution_count": null,
   "metadata": {},
   "outputs": [],
   "source": [
    "df_access_scores.var()"
   ]
  },
  {
   "cell_type": "code",
   "execution_count": null,
   "metadata": {},
   "outputs": [],
   "source": [
    "interchange = pd.read_csv('interchanges_trips.csv')\n",
    "interchange.dest_busid = interchange.dest_busid.astype(str)\n",
    "inter_merge = pd.merge(df_access_scores, interchange, on='dest_busid', how='left')\n",
    "df_NoInter_Access = inter_merge[inter_merge['Has_Interchange'] !=1].copy()\n",
    "df_NoInter_Access = df_NoInter_Access[['dest_busid', 'TripsPerdest', 'access_score_100', 'access_score_200', 'access_score_300',  'access_score_400', 'access_score_500', 'access_score_600']].copy()\n",
    "#inter_merge[inter_merge['Has_Interchange'] !=1].describe()"
   ]
  },
  {
   "cell_type": "code",
   "execution_count": null,
   "metadata": {},
   "outputs": [],
   "source": [
    "df_NoInter_Access.describe()"
   ]
  },
  {
   "cell_type": "code",
   "execution_count": null,
   "metadata": {},
   "outputs": [],
   "source": [
    "df_NoInter_Access.var()"
   ]
  },
  {
   "cell_type": "code",
   "execution_count": null,
   "metadata": {},
   "outputs": [],
   "source": [
    "#save the access scores in cummulative format still containing nan values for use in NBR for case 1 y = a + Bx\n",
    "df_access_scores.to_csv('access_scores_cum_weight.csv', index=False)\n",
    "df_NoInter_Access.to_csv('access_scores_cum_NoInterchange_weight.csv', index=False)"
   ]
  },
  {
   "cell_type": "code",
   "execution_count": null,
   "metadata": {},
   "outputs": [],
   "source": [
    "df_access_scores[['access_score_100', 'access_score_200','access_score_300', 'access_score_400', 'access_score_500',\n",
    "       'access_score_600']] = df_access_scores[['access_score_100', 'access_score_200', 'access_score_300', 'access_score_400', 'access_score_500',\n",
    "       'access_score_600']].fillna(0)"
   ]
  },
  {
   "cell_type": "code",
   "execution_count": null,
   "metadata": {},
   "outputs": [],
   "source": [
    "df_access_scores['accessBuffer_100'] = df_access_scores.access_score_100\n",
    "df_access_scores['accessBuffer_200'] = df_access_scores.access_score_200 - df_access_scores.access_score_100\n",
    "df_access_scores['accessBuffer_300'] = df_access_scores.access_score_300 - df_access_scores.access_score_200\n",
    "df_access_scores['accessBuffer_400'] = df_access_scores.access_score_400 - df_access_scores.access_score_300\n",
    "df_access_scores['accessBuffer_500'] = df_access_scores.access_score_500 - df_access_scores.access_score_400\n",
    "df_access_scores['accessBuffer_600'] = df_access_scores.access_score_600 - df_access_scores.access_score_500"
   ]
  },
  {
   "cell_type": "code",
   "execution_count": null,
   "metadata": {},
   "outputs": [],
   "source": [
    "df_access_scores[df_access_scores['accessBuffer_200'] < 0] = 0\n",
    "df_access_scores[df_access_scores['accessBuffer_300'] < 0] = 0\n",
    "df_access_scores[df_access_scores['accessBuffer_400'] < 0] = 0\n",
    "df_access_scores[df_access_scores['accessBuffer_500'] < 0] = 0\n",
    "df_access_scores[df_access_scores['accessBuffer_600'] < 0] = 0"
   ]
  },
  {
   "cell_type": "code",
   "execution_count": null,
   "metadata": {},
   "outputs": [],
   "source": [
    "#df_access_scores"
   ]
  },
  {
   "cell_type": "code",
   "execution_count": null,
   "metadata": {},
   "outputs": [],
   "source": [
    "df_access_scores.describe()"
   ]
  },
  {
   "cell_type": "code",
   "execution_count": null,
   "metadata": {},
   "outputs": [],
   "source": [
    "df_accessbuffer = df_access_scores[['dest_busid', 'TripsPerdest','accessBuffer_100', 'accessBuffer_200',\n",
    "       'accessBuffer_300', 'accessBuffer_400', 'accessBuffer_500',\n",
    "       'accessBuffer_600']].copy()\n"
   ]
  },
  {
   "cell_type": "code",
   "execution_count": null,
   "metadata": {},
   "outputs": [],
   "source": [
    "inter_merge2 = pd.merge(df_accessbuffer, interchange, on='dest_busid', how='left')\n",
    "df_NoInter_Access2 = inter_merge2[inter_merge2['Has_Interchange'] !=1].copy()\n",
    "df_NoInter_Access2 = df_NoInter_Access2[['dest_busid', 'TripsPerdest', 'dest_busid', 'TripsPerdest','accessBuffer_100', 'accessBuffer_200',\n",
    "       'accessBuffer_300', 'accessBuffer_400', 'accessBuffer_500',\n",
    "       'accessBuffer_600']].copy()\n"
   ]
  },
  {
   "cell_type": "code",
   "execution_count": null,
   "metadata": {},
   "outputs": [],
   "source": [
    "df_accessbuffer.to_csv('access_scores_distinct2_weight.csv', index=False)\n",
    "df_NoInter_Access2.to_csv('access_scores_distinct_NoInterchanges_weight.csv', index=False)"
   ]
  },
  {
   "cell_type": "code",
   "execution_count": null,
   "metadata": {},
   "outputs": [],
   "source": [
    "#get cummulative counts of Bus Stop with at least one poi\n",
    "poi_only = dest_summary[['TripsPerdest','all_poi_100','all_poi_200','all_poi_300','all_poi_400','all_poi_500','all_poi_600']].copy()\n",
    "poi_only.rename(columns={'TripsPerdest':'Total_BusStops','all_poi_100':'100m','all_poi_200':'200m','all_poi_300':'300m','all_poi_400':'400m','all_poi_500':'500m','all_poi_600':'600m'}, inplace=True)\n",
    "poi_only= poi_only.count()\n",
    "print (poi_only)\n",
    "ax = poi_only.plot.bar(colormap='Paired')\n",
    "plt.xlabel(\"Cummulative Distance buffers\")\n",
    "plt.ylabel(\"number of bus stops with at least 1 poi within buffer\")"
   ]
  },
  {
   "cell_type": "code",
   "execution_count": null,
   "metadata": {},
   "outputs": [],
   "source": [
    "df_access_scores.columns"
   ]
  },
  {
   "cell_type": "code",
   "execution_count": null,
   "metadata": {},
   "outputs": [],
   "source": [
    "df_allpoi = dest_summary[['TripsPerdest','all_poi_100','all_poi_200','all_poi_300','all_poi_400','all_poi_500','all_poi_600']].copy()\n",
    "df_buffers = df_allpoi.copy()"
   ]
  },
  {
   "cell_type": "code",
   "execution_count": null,
   "metadata": {},
   "outputs": [],
   "source": [
    "df_buffers.sort_values(by=['TripsPerdest'], inplace=True)\n",
    "df_buffers = df_buffers.reset_index()"
   ]
  },
  {
   "cell_type": "code",
   "execution_count": null,
   "metadata": {},
   "outputs": [],
   "source": [
    "#checking to see if low trips have pois for different buffers\n",
    "onetrip = df_buffers[df_buffers.TripsPerdest < 100]\n",
    "print(len(onetrip))\n",
    "#onetrip.loc[onetrip.isnull().any(axis=1)]\n",
    "len(onetrip[onetrip['all_poi_400'].isnull()])"
   ]
  },
  {
   "cell_type": "code",
   "execution_count": null,
   "metadata": {},
   "outputs": [],
   "source": [
    "#df_buffers['all_poi_100']"
   ]
  },
  {
   "cell_type": "code",
   "execution_count": null,
   "metadata": {},
   "outputs": [],
   "source": [
    "df_buffers[['all_poi_100','all_poi_200', 'all_poi_300', 'all_poi_400', 'all_poi_500', 'all_poi_600']] = df_buffers[['all_poi_100',\n",
    "       'all_poi_200', 'all_poi_300', 'all_poi_400', 'all_poi_500',\n",
    "       'all_poi_600']].fillna(0)"
   ]
  },
  {
   "cell_type": "code",
   "execution_count": null,
   "metadata": {},
   "outputs": [],
   "source": [
    "df_buffers['poiBuffer_100'] = df_buffers.all_poi_100\n",
    "df_buffers['poiBuffer_200'] = df_buffers.all_poi_200 - df_buffers.all_poi_100\n",
    "df_buffers['poiBuffer_300'] = df_buffers.all_poi_300 - df_buffers.all_poi_200\n",
    "df_buffers['poiBuffer_400'] = df_buffers.all_poi_400 - df_buffers.all_poi_300\n",
    "df_buffers['poiBuffer_500'] = df_buffers.all_poi_500 - df_buffers.all_poi_400\n",
    "df_buffers['poiBuffer_600'] = df_buffers.all_poi_600 - df_buffers.all_poi_500"
   ]
  },
  {
   "cell_type": "code",
   "execution_count": null,
   "metadata": {},
   "outputs": [],
   "source": [
    "#df_access_scores.astype(bool).sum(axis=0)\n",
    "df_buffers.astype(bool).sum(axis=0)"
   ]
  },
  {
   "cell_type": "code",
   "execution_count": null,
   "metadata": {},
   "outputs": [],
   "source": [
    "df_buffers.columns"
   ]
  },
  {
   "cell_type": "code",
   "execution_count": null,
   "metadata": {},
   "outputs": [],
   "source": [
    "#to plot non cummulative for counts of bus stops with at least 1 poi for different buffers\n",
    "poi_only2 = df_buffers[['TripsPerdest','poiBuffer_100','poiBuffer_200', 'poiBuffer_300', 'poiBuffer_400', 'poiBuffer_500','poiBuffer_600']].copy()\n",
    "poi_only2.rename(columns={'TripsPerdest':'Total_BusStops','poiBuffer_100':'100m','poiBuffer_200':'200m','poiBuffer_300':'300m','poiBuffer_400':'400m','poiBuffer_500':'500m','poiBuffer_600':'600m'}, inplace=True)\n",
    "poi_only2= poi_only2.astype(bool).sum(axis=0)\n",
    "print (poi_only2)\n",
    "ax = poi_only2.plot.bar()\n",
    "plt.xlabel(\"Distinct Distance buffers\")\n",
    "plt.ylabel(\"number of bus stops with at least 1 poi within buffer\")"
   ]
  },
  {
   "cell_type": "code",
   "execution_count": null,
   "metadata": {},
   "outputs": [],
   "source": [
    "#count non zeroes in each columns\n",
    "df_accessbuffer.astype(bool).sum(axis=0)"
   ]
  },
  {
   "cell_type": "code",
   "execution_count": null,
   "metadata": {},
   "outputs": [],
   "source": []
  },
  {
   "cell_type": "code",
   "execution_count": null,
   "metadata": {},
   "outputs": [],
   "source": [
    "#from pandas.plotting import scatter_matrix\n",
    "#scatter_matrix(df_allpoi, alpha=0.2, figsize=(50,50), diagonal = 'kde')\n"
   ]
  },
  {
   "cell_type": "code",
   "execution_count": null,
   "metadata": {},
   "outputs": [],
   "source": [
    "df_allpoi.columns"
   ]
  },
  {
   "cell_type": "code",
   "execution_count": null,
   "metadata": {},
   "outputs": [],
   "source": [
    "#dest_summary[dest_summary['dest_busid']=='2235']"
   ]
  },
  {
   "cell_type": "code",
   "execution_count": null,
   "metadata": {},
   "outputs": [],
   "source": [
    "#df_DestBus600[df_DestBus600['dest_busid']=='3281']\n",
    "#df_DestBus600[df_DestBus600['dest_busid']=='2959']\n",
    "#df_DestBus600[df_DestBus600['dest_busid']=='2491']\n",
    "#df_DestBus600[df_DestBus600['dest_busid']=='2235']"
   ]
  }
 ],
 "metadata": {
  "kernelspec": {
   "display_name": "Python 3",
   "language": "python",
   "name": "python3"
  },
  "language_info": {
   "codemirror_mode": {
    "name": "ipython",
    "version": 3
   },
   "file_extension": ".py",
   "mimetype": "text/x-python",
   "name": "python",
   "nbconvert_exporter": "python",
   "pygments_lexer": "ipython3",
   "version": "3.7.0"
  }
 },
 "nbformat": 4,
 "nbformat_minor": 2
}
