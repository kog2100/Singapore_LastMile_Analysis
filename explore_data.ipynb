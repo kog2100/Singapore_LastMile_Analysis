{
 "cells": [
  {
   "cell_type": "code",
   "execution_count": 1,
   "metadata": {},
   "outputs": [],
   "source": [
    "import pandas as pd\n",
    "import geopandas as gpd"
   ]
  },
  {
   "cell_type": "code",
   "execution_count": 8,
   "metadata": {},
   "outputs": [],
   "source": [
    "import matplotlib.pyplot as plt"
   ]
  },
  {
   "cell_type": "code",
   "execution_count": 5,
   "metadata": {},
   "outputs": [],
   "source": [
    "df_allpoi = pd.read_csv('dest_access_summary_allPOI_070519.csv')"
   ]
  },
  {
   "cell_type": "code",
   "execution_count": 61,
   "metadata": {},
   "outputs": [],
   "source": [
    "df_all = pd.read_csv('dest_summary_output_030519.csv')"
   ]
  },
  {
   "cell_type": "code",
   "execution_count": 66,
   "metadata": {},
   "outputs": [
    {
     "data": {
      "text/plain": [
       "Index(['dest_busid', 'TripsPerDest', 'TripsPerOrig', 'poi_100',\n",
       "       'access_score_100', 'access_score_200', 'access_score_300',\n",
       "       'access_score_400', 'access_score_500', 'access_score_600'],\n",
       "      dtype='object')"
      ]
     },
     "execution_count": 66,
     "metadata": {},
     "output_type": "execute_result"
    }
   ],
   "source": [
    "df_allpoi.columns"
   ]
  },
  {
   "cell_type": "code",
   "execution_count": 68,
   "metadata": {},
   "outputs": [
    {
     "name": "stdout",
     "output_type": "stream",
     "text": [
      "<class 'pandas.core.frame.DataFrame'>\n",
      "RangeIndex: 4370 entries, 0 to 4369\n",
      "Data columns (total 3 columns):\n",
      "dest_busid      4370 non-null int64\n",
      "TripsPerDest    4370 non-null int64\n",
      "TripsPerOrig    4370 non-null float64\n",
      "dtypes: float64(1), int64(2)\n",
      "memory usage: 102.5 KB\n"
     ]
    }
   ],
   "source": [
    "df_allpoi[['dest_busid', 'TripsPerDest', 'TripsPerOrig']].info()"
   ]
  },
  {
   "cell_type": "code",
   "execution_count": 69,
   "metadata": {},
   "outputs": [],
   "source": [
    "fp = 'trips.csv'\n",
    "df_allpoi[['dest_busid', 'TripsPerDest', 'TripsPerOrig']].to_csv(fp, index=False)"
   ]
  },
  {
   "cell_type": "code",
   "execution_count": 10,
   "metadata": {},
   "outputs": [
    {
     "data": {
      "text/html": [
       "<div>\n",
       "<style scoped>\n",
       "    .dataframe tbody tr th:only-of-type {\n",
       "        vertical-align: middle;\n",
       "    }\n",
       "\n",
       "    .dataframe tbody tr th {\n",
       "        vertical-align: top;\n",
       "    }\n",
       "\n",
       "    .dataframe thead th {\n",
       "        text-align: right;\n",
       "    }\n",
       "</style>\n",
       "<table border=\"1\" class=\"dataframe\">\n",
       "  <thead>\n",
       "    <tr style=\"text-align: right;\">\n",
       "      <th></th>\n",
       "      <th>dest_busid</th>\n",
       "      <th>TripsPerDest</th>\n",
       "      <th>TripsPerOrig</th>\n",
       "      <th>poi_100</th>\n",
       "      <th>access_score_100</th>\n",
       "      <th>access_score_200</th>\n",
       "      <th>access_score_300</th>\n",
       "      <th>access_score_400</th>\n",
       "      <th>access_score_500</th>\n",
       "      <th>access_score_600</th>\n",
       "    </tr>\n",
       "  </thead>\n",
       "  <tbody>\n",
       "    <tr>\n",
       "      <th>count</th>\n",
       "      <td>4370.000000</td>\n",
       "      <td>4370.000000</td>\n",
       "      <td>4370.000000</td>\n",
       "      <td>4370.000000</td>\n",
       "      <td>4370.000000</td>\n",
       "      <td>4370.000000</td>\n",
       "      <td>4370.000000</td>\n",
       "      <td>4370.000000</td>\n",
       "      <td>4370.000000</td>\n",
       "      <td>4370.000000</td>\n",
       "    </tr>\n",
       "    <tr>\n",
       "      <th>mean</th>\n",
       "      <td>3646.460412</td>\n",
       "      <td>84.859268</td>\n",
       "      <td>84.526316</td>\n",
       "      <td>0.110526</td>\n",
       "      <td>0.043126</td>\n",
       "      <td>0.074486</td>\n",
       "      <td>0.071182</td>\n",
       "      <td>0.056332</td>\n",
       "      <td>0.041984</td>\n",
       "      <td>0.031697</td>\n",
       "    </tr>\n",
       "    <tr>\n",
       "      <th>std</th>\n",
       "      <td>1580.434321</td>\n",
       "      <td>192.114524</td>\n",
       "      <td>239.416555</td>\n",
       "      <td>0.385006</td>\n",
       "      <td>0.143513</td>\n",
       "      <td>0.135231</td>\n",
       "      <td>0.107222</td>\n",
       "      <td>0.086493</td>\n",
       "      <td>0.068318</td>\n",
       "      <td>0.055794</td>\n",
       "    </tr>\n",
       "    <tr>\n",
       "      <th>min</th>\n",
       "      <td>1001.000000</td>\n",
       "      <td>1.000000</td>\n",
       "      <td>0.000000</td>\n",
       "      <td>0.000000</td>\n",
       "      <td>0.000000</td>\n",
       "      <td>0.000000</td>\n",
       "      <td>0.000000</td>\n",
       "      <td>0.000000</td>\n",
       "      <td>0.000000</td>\n",
       "      <td>0.000000</td>\n",
       "    </tr>\n",
       "    <tr>\n",
       "      <th>25%</th>\n",
       "      <td>2348.250000</td>\n",
       "      <td>12.000000</td>\n",
       "      <td>9.000000</td>\n",
       "      <td>0.000000</td>\n",
       "      <td>0.000000</td>\n",
       "      <td>0.000000</td>\n",
       "      <td>0.000000</td>\n",
       "      <td>0.000000</td>\n",
       "      <td>0.000000</td>\n",
       "      <td>0.002336</td>\n",
       "    </tr>\n",
       "    <tr>\n",
       "      <th>50%</th>\n",
       "      <td>3605.500000</td>\n",
       "      <td>36.000000</td>\n",
       "      <td>31.000000</td>\n",
       "      <td>0.000000</td>\n",
       "      <td>0.000000</td>\n",
       "      <td>0.000000</td>\n",
       "      <td>0.037279</td>\n",
       "      <td>0.028579</td>\n",
       "      <td>0.020329</td>\n",
       "      <td>0.014735</td>\n",
       "    </tr>\n",
       "    <tr>\n",
       "      <th>75%</th>\n",
       "      <td>4820.750000</td>\n",
       "      <td>94.000000</td>\n",
       "      <td>86.000000</td>\n",
       "      <td>0.000000</td>\n",
       "      <td>0.000000</td>\n",
       "      <td>0.132086</td>\n",
       "      <td>0.102503</td>\n",
       "      <td>0.072233</td>\n",
       "      <td>0.052712</td>\n",
       "      <td>0.038780</td>\n",
       "    </tr>\n",
       "    <tr>\n",
       "      <th>max</th>\n",
       "      <td>6997.000000</td>\n",
       "      <td>4270.000000</td>\n",
       "      <td>5302.000000</td>\n",
       "      <td>5.000000</td>\n",
       "      <td>0.950247</td>\n",
       "      <td>0.913354</td>\n",
       "      <td>0.913354</td>\n",
       "      <td>0.888308</td>\n",
       "      <td>0.818447</td>\n",
       "      <td>0.809354</td>\n",
       "    </tr>\n",
       "  </tbody>\n",
       "</table>\n",
       "</div>"
      ],
      "text/plain": [
       "        dest_busid  TripsPerDest  TripsPerOrig      poi_100  access_score_100  \\\n",
       "count  4370.000000   4370.000000   4370.000000  4370.000000       4370.000000   \n",
       "mean   3646.460412     84.859268     84.526316     0.110526          0.043126   \n",
       "std    1580.434321    192.114524    239.416555     0.385006          0.143513   \n",
       "min    1001.000000      1.000000      0.000000     0.000000          0.000000   \n",
       "25%    2348.250000     12.000000      9.000000     0.000000          0.000000   \n",
       "50%    3605.500000     36.000000     31.000000     0.000000          0.000000   \n",
       "75%    4820.750000     94.000000     86.000000     0.000000          0.000000   \n",
       "max    6997.000000   4270.000000   5302.000000     5.000000          0.950247   \n",
       "\n",
       "       access_score_200  access_score_300  access_score_400  access_score_500  \\\n",
       "count       4370.000000       4370.000000       4370.000000       4370.000000   \n",
       "mean           0.074486          0.071182          0.056332          0.041984   \n",
       "std            0.135231          0.107222          0.086493          0.068318   \n",
       "min            0.000000          0.000000          0.000000          0.000000   \n",
       "25%            0.000000          0.000000          0.000000          0.000000   \n",
       "50%            0.000000          0.037279          0.028579          0.020329   \n",
       "75%            0.132086          0.102503          0.072233          0.052712   \n",
       "max            0.913354          0.913354          0.888308          0.818447   \n",
       "\n",
       "       access_score_600  \n",
       "count       4370.000000  \n",
       "mean           0.031697  \n",
       "std            0.055794  \n",
       "min            0.000000  \n",
       "25%            0.002336  \n",
       "50%            0.014735  \n",
       "75%            0.038780  \n",
       "max            0.809354  "
      ]
     },
     "execution_count": 10,
     "metadata": {},
     "output_type": "execute_result"
    }
   ],
   "source": [
    "df_allpoi.describe()"
   ]
  },
  {
   "cell_type": "code",
   "execution_count": 13,
   "metadata": {},
   "outputs": [
    {
     "data": {
      "text/plain": [
       "[array([12.,  1.]), array([ 94., 217.])]"
      ]
     },
     "execution_count": 13,
     "metadata": {},
     "output_type": "execute_result"
    },
    {
     "data": {
      "image/png": "[encoded data removed]",
      "text/plain": [
       "<Figure size 432x288 with 1 Axes>"
      ]
     },
     "metadata": {
      "needs_background": "light"
     },
     "output_type": "display_data"
    }
   ],
   "source": [
    "#identifying outliers in the trip data\n",
    "boxplot_trips = plt.boxplot(df_allpoi['TripsPerDest'])\n",
    "[item.get_ydata() for item in boxplot_trips['whiskers']]"
   ]
  },
  {
   "cell_type": "code",
   "execution_count": 16,
   "metadata": {},
   "outputs": [],
   "source": [
    "q1q3 = [item.get_ydata()[0] for item in boxplot_trips['whiskers']]"
   ]
  },
  {
   "cell_type": "code",
   "execution_count": 17,
   "metadata": {},
   "outputs": [],
   "source": [
    "iqr = q1q3[1] - q1q3[0]"
   ]
  },
  {
   "cell_type": "code",
   "execution_count": 22,
   "metadata": {},
   "outputs": [],
   "source": [
    "left_outlier_bound = q1q3[0] - (1.5*iqr)\n",
    "right_outlier_bound = q1q3[1] + (1.5*iqr)"
   ]
  },
  {
   "cell_type": "code",
   "execution_count": 23,
   "metadata": {},
   "outputs": [
    {
     "name": "stdout",
     "output_type": "stream",
     "text": [
      "-111.0 217.0\n"
     ]
    }
   ],
   "source": [
    "print(left_outlier_bound, right_outlier_bound)"
   ]
  },
  {
   "cell_type": "code",
   "execution_count": 35,
   "metadata": {},
   "outputs": [
    {
     "data": {
      "text/plain": [
       "82.0"
      ]
     },
     "execution_count": 35,
     "metadata": {},
     "output_type": "execute_result"
    }
   ],
   "source": [
    "iqr "
   ]
  },
  {
   "cell_type": "code",
   "execution_count": 26,
   "metadata": {},
   "outputs": [],
   "source": [
    "#what bus stops have total trips outside right_outlier_bound (362 in total)\n",
    "outliers = df_allpoi[df_allpoi['TripsPerDest']>right_outlier_bound]"
   ]
  },
  {
   "cell_type": "code",
   "execution_count": 27,
   "metadata": {},
   "outputs": [],
   "source": [
    "non_outliers = df_allpoi[df_allpoi['TripsPerDest']<=right_outlier_bound]"
   ]
  },
  {
   "cell_type": "code",
   "execution_count": 28,
   "metadata": {},
   "outputs": [
    {
     "data": {
      "text/html": [
       "<div>\n",
       "<style scoped>\n",
       "    .dataframe tbody tr th:only-of-type {\n",
       "        vertical-align: middle;\n",
       "    }\n",
       "\n",
       "    .dataframe tbody tr th {\n",
       "        vertical-align: top;\n",
       "    }\n",
       "\n",
       "    .dataframe thead th {\n",
       "        text-align: right;\n",
       "    }\n",
       "</style>\n",
       "<table border=\"1\" class=\"dataframe\">\n",
       "  <thead>\n",
       "    <tr style=\"text-align: right;\">\n",
       "      <th></th>\n",
       "      <th>dest_busid</th>\n",
       "      <th>TripsPerDest</th>\n",
       "      <th>TripsPerOrig</th>\n",
       "      <th>poi_100</th>\n",
       "      <th>access_score_100</th>\n",
       "      <th>access_score_200</th>\n",
       "      <th>access_score_300</th>\n",
       "      <th>access_score_400</th>\n",
       "      <th>access_score_500</th>\n",
       "      <th>access_score_600</th>\n",
       "    </tr>\n",
       "  </thead>\n",
       "  <tbody>\n",
       "    <tr>\n",
       "      <th>count</th>\n",
       "      <td>362.000000</td>\n",
       "      <td>362.000000</td>\n",
       "      <td>362.000000</td>\n",
       "      <td>362.000000</td>\n",
       "      <td>362.000000</td>\n",
       "      <td>362.000000</td>\n",
       "      <td>362.000000</td>\n",
       "      <td>362.000000</td>\n",
       "      <td>362.000000</td>\n",
       "      <td>362.000000</td>\n",
       "    </tr>\n",
       "    <tr>\n",
       "      <th>mean</th>\n",
       "      <td>3573.530387</td>\n",
       "      <td>477.505525</td>\n",
       "      <td>468.839779</td>\n",
       "      <td>0.149171</td>\n",
       "      <td>0.063975</td>\n",
       "      <td>0.116085</td>\n",
       "      <td>0.100335</td>\n",
       "      <td>0.073270</td>\n",
       "      <td>0.052057</td>\n",
       "      <td>0.039661</td>\n",
       "    </tr>\n",
       "    <tr>\n",
       "      <th>std</th>\n",
       "      <td>1561.415889</td>\n",
       "      <td>499.456221</td>\n",
       "      <td>695.381532</td>\n",
       "      <td>0.400639</td>\n",
       "      <td>0.172237</td>\n",
       "      <td>0.150486</td>\n",
       "      <td>0.098682</td>\n",
       "      <td>0.071782</td>\n",
       "      <td>0.053788</td>\n",
       "      <td>0.046312</td>\n",
       "    </tr>\n",
       "    <tr>\n",
       "      <th>min</th>\n",
       "      <td>1009.000000</td>\n",
       "      <td>218.000000</td>\n",
       "      <td>0.000000</td>\n",
       "      <td>0.000000</td>\n",
       "      <td>0.000000</td>\n",
       "      <td>0.000000</td>\n",
       "      <td>0.000000</td>\n",
       "      <td>0.000000</td>\n",
       "      <td>0.000000</td>\n",
       "      <td>0.000000</td>\n",
       "    </tr>\n",
       "    <tr>\n",
       "      <th>25%</th>\n",
       "      <td>2393.750000</td>\n",
       "      <td>264.000000</td>\n",
       "      <td>180.250000</td>\n",
       "      <td>0.000000</td>\n",
       "      <td>0.000000</td>\n",
       "      <td>0.000000</td>\n",
       "      <td>0.039120</td>\n",
       "      <td>0.028147</td>\n",
       "      <td>0.019184</td>\n",
       "      <td>0.013503</td>\n",
       "    </tr>\n",
       "    <tr>\n",
       "      <th>50%</th>\n",
       "      <td>3694.500000</td>\n",
       "      <td>336.500000</td>\n",
       "      <td>288.000000</td>\n",
       "      <td>0.000000</td>\n",
       "      <td>0.000000</td>\n",
       "      <td>0.000000</td>\n",
       "      <td>0.074864</td>\n",
       "      <td>0.054352</td>\n",
       "      <td>0.039554</td>\n",
       "      <td>0.028458</td>\n",
       "    </tr>\n",
       "    <tr>\n",
       "      <th>75%</th>\n",
       "      <td>4646.000000</td>\n",
       "      <td>470.750000</td>\n",
       "      <td>460.750000</td>\n",
       "      <td>0.000000</td>\n",
       "      <td>0.000000</td>\n",
       "      <td>0.195840</td>\n",
       "      <td>0.143511</td>\n",
       "      <td>0.095754</td>\n",
       "      <td>0.067614</td>\n",
       "      <td>0.052475</td>\n",
       "    </tr>\n",
       "    <tr>\n",
       "      <th>max</th>\n",
       "      <td>6983.000000</td>\n",
       "      <td>4270.000000</td>\n",
       "      <td>5302.000000</td>\n",
       "      <td>2.000000</td>\n",
       "      <td>0.867381</td>\n",
       "      <td>0.867381</td>\n",
       "      <td>0.631329</td>\n",
       "      <td>0.533324</td>\n",
       "      <td>0.533324</td>\n",
       "      <td>0.533324</td>\n",
       "    </tr>\n",
       "  </tbody>\n",
       "</table>\n",
       "</div>"
      ],
      "text/plain": [
       "        dest_busid  TripsPerDest  TripsPerOrig     poi_100  access_score_100  \\\n",
       "count   362.000000    362.000000    362.000000  362.000000        362.000000   \n",
       "mean   3573.530387    477.505525    468.839779    0.149171          0.063975   \n",
       "std    1561.415889    499.456221    695.381532    0.400639          0.172237   \n",
       "min    1009.000000    218.000000      0.000000    0.000000          0.000000   \n",
       "25%    2393.750000    264.000000    180.250000    0.000000          0.000000   \n",
       "50%    3694.500000    336.500000    288.000000    0.000000          0.000000   \n",
       "75%    4646.000000    470.750000    460.750000    0.000000          0.000000   \n",
       "max    6983.000000   4270.000000   5302.000000    2.000000          0.867381   \n",
       "\n",
       "       access_score_200  access_score_300  access_score_400  access_score_500  \\\n",
       "count        362.000000        362.000000        362.000000        362.000000   \n",
       "mean           0.116085          0.100335          0.073270          0.052057   \n",
       "std            0.150486          0.098682          0.071782          0.053788   \n",
       "min            0.000000          0.000000          0.000000          0.000000   \n",
       "25%            0.000000          0.039120          0.028147          0.019184   \n",
       "50%            0.000000          0.074864          0.054352          0.039554   \n",
       "75%            0.195840          0.143511          0.095754          0.067614   \n",
       "max            0.867381          0.631329          0.533324          0.533324   \n",
       "\n",
       "       access_score_600  \n",
       "count        362.000000  \n",
       "mean           0.039661  \n",
       "std            0.046312  \n",
       "min            0.000000  \n",
       "25%            0.013503  \n",
       "50%            0.028458  \n",
       "75%            0.052475  \n",
       "max            0.533324  "
      ]
     },
     "execution_count": 28,
     "metadata": {},
     "output_type": "execute_result"
    }
   ],
   "source": [
    "outliers.describe()"
   ]
  },
  {
   "cell_type": "code",
   "execution_count": 40,
   "metadata": {},
   "outputs": [
    {
     "data": {
      "text/plain": [
       "[array([264., 218.]), array([470.75, 765.  ])]"
      ]
     },
     "execution_count": 40,
     "metadata": {},
     "output_type": "execute_result"
    },
    {
     "data": {
      "image/png": "[encoded data removed]",
      "text/plain": [
       "<Figure size 432x288 with 1 Axes>"
      ]
     },
     "metadata": {
      "needs_background": "light"
     },
     "output_type": "display_data"
    }
   ],
   "source": [
    "B = plt.boxplot(outliers['TripsPerDest'])\n",
    "[item.get_ydata() for item in B['whiskers']]"
   ]
  },
  {
   "cell_type": "code",
   "execution_count": 30,
   "metadata": {},
   "outputs": [
    {
     "data": {
      "text/plain": [
       "{'whiskers': [<matplotlib.lines.Line2D at 0x1abda12f400>,\n",
       "  <matplotlib.lines.Line2D at 0x1abda12f6d8>],\n",
       " 'caps': [<matplotlib.lines.Line2D at 0x1abda12fa20>,\n",
       "  <matplotlib.lines.Line2D at 0x1abda12fd68>],\n",
       " 'boxes': [<matplotlib.lines.Line2D at 0x1abda12f048>],\n",
       " 'medians': [<matplotlib.lines.Line2D at 0x1abda12fe48>],\n",
       " 'fliers': [<matplotlib.lines.Line2D at 0x1abda139438>],\n",
       " 'means': []}"
      ]
     },
     "execution_count": 30,
     "metadata": {},
     "output_type": "execute_result"
    },
    {
     "data": {
      "image/png": "[encoded data removed]",
      "text/plain": [
       "<Figure size 432x288 with 1 Axes>"
      ]
     },
     "metadata": {
      "needs_background": "light"
     },
     "output_type": "display_data"
    }
   ],
   "source": [
    "plt.boxplot(non_outliers['TripsPerDest'])"
   ]
  },
  {
   "cell_type": "code",
   "execution_count": 57,
   "metadata": {},
   "outputs": [
    {
     "data": {
      "text/plain": [
       "123"
      ]
     },
     "execution_count": 57,
     "metadata": {},
     "output_type": "execute_result"
    }
   ],
   "source": [
    "len(non_outliers[non_outliers['TripsPerDest']==3])"
   ]
  },
  {
   "cell_type": "code",
   "execution_count": null,
   "metadata": {},
   "outputs": [],
   "source": [
    "outliers[outliers['TripsPerDest']>1000]"
   ]
  },
  {
   "cell_type": "code",
   "execution_count": 45,
   "metadata": {},
   "outputs": [
    {
     "data": {
      "text/plain": [
       "<matplotlib.axes._subplots.AxesSubplot at 0x1abdb753390>"
      ]
     },
     "execution_count": 45,
     "metadata": {},
     "output_type": "execute_result"
    },
    {
     "data": {
      "image/png": "[encoded data removed]",
      "text/plain": [
       "<Figure size 432x288 with 1 Axes>"
      ]
     },
     "metadata": {
      "needs_background": "light"
     },
     "output_type": "display_data"
    }
   ],
   "source": [
    "outliers['TripsPerDest'].hist(bins=100)"
   ]
  },
  {
   "cell_type": "code",
   "execution_count": null,
   "metadata": {},
   "outputs": [],
   "source": [
    "non_outliers['TripsPerDest'].hist(figsize=(40,40),bins=200)"
   ]
  },
  {
   "cell_type": "code",
   "execution_count": null,
   "metadata": {},
   "outputs": [],
   "source": [
    "outliers.corr()"
   ]
  },
  {
   "cell_type": "code",
   "execution_count": 51,
   "metadata": {},
   "outputs": [],
   "source": [
    "outliers_trips = outliers[['dest_busid','TripsPerDest']].copy()"
   ]
  },
  {
   "cell_type": "code",
   "execution_count": null,
   "metadata": {},
   "outputs": [],
   "source": [
    "outliers[outliers['TripsPerDest']>765]"
   ]
  },
  {
   "cell_type": "code",
   "execution_count": null,
   "metadata": {},
   "outputs": [],
   "source": [
    "df_all[df_all['TripsPerDest']>765]"
   ]
  },
  {
   "cell_type": "code",
   "execution_count": 73,
   "metadata": {},
   "outputs": [],
   "source": [
    "import geopandas as gpd"
   ]
  },
  {
   "cell_type": "code",
   "execution_count": 74,
   "metadata": {},
   "outputs": [],
   "source": [
    "bus_stops = gpd.read_file('C:/Users/Grace/Documents/Singapore/BusStopLocation_Jan2019/BusStop.shp')"
   ]
  },
  {
   "cell_type": "code",
   "execution_count": null,
   "metadata": {},
   "outputs": [],
   "source": [
    "bus_stops.head()"
   ]
  },
  {
   "cell_type": "code",
   "execution_count": 93,
   "metadata": {},
   "outputs": [],
   "source": [
    "df_all.dest_busid = df_all.dest_busid.astype(str)"
   ]
  },
  {
   "cell_type": "code",
   "execution_count": 94,
   "metadata": {},
   "outputs": [],
   "source": [
    "merge = pd.merge(bus_stops, df_all, how='inner',left_on='BUS_STOP_N', right_on='dest_busid')"
   ]
  },
  {
   "cell_type": "code",
   "execution_count": 95,
   "metadata": {},
   "outputs": [
    {
     "name": "stdout",
     "output_type": "stream",
     "text": [
      "<class 'geopandas.geodataframe.GeoDataFrame'>\n",
      "Index: 0 entries\n",
      "Data columns (total 19 columns):\n",
      "BUS_STOP_N          0 non-null object\n",
      "BUS_ROOF_N          0 non-null object\n",
      "LOC_DESC            0 non-null object\n",
      "geometry            0 non-null object\n",
      "dest_busid          0 non-null object\n",
      "TripsPerDest        0 non-null int64\n",
      "TripsPerOrig        0 non-null float64\n",
      "poi_100             0 non-null float64\n",
      "access_score_100    0 non-null float64\n",
      "poi_200             0 non-null float64\n",
      "access_score_200    0 non-null float64\n",
      "poi_300             0 non-null float64\n",
      "access_score_300    0 non-null float64\n",
      "poi_400             0 non-null float64\n",
      "access_score_400    0 non-null float64\n",
      "poi_500             0 non-null float64\n",
      "access_score_500    0 non-null float64\n",
      "poi_600             0 non-null float64\n",
      "access_score_600    0 non-null float64\n",
      "dtypes: float64(13), int64(1), object(5)\n",
      "memory usage: 0.0+ bytes\n"
     ]
    }
   ],
   "source": [
    "merge.info()"
   ]
  },
  {
   "cell_type": "code",
   "execution_count": 15,
   "metadata": {},
   "outputs": [],
   "source": [
    "import pandas as pd\n",
    "trips = pd.read_csv('trips.csv')"
   ]
  },
  {
   "cell_type": "code",
   "execution_count": 16,
   "metadata": {},
   "outputs": [],
   "source": [
    "import matplotlib.pyplot as plt"
   ]
  },
  {
   "cell_type": "code",
   "execution_count": 17,
   "metadata": {},
   "outputs": [
    {
     "data": {
      "text/html": [
       "<div>\n",
       "<style scoped>\n",
       "    .dataframe tbody tr th:only-of-type {\n",
       "        vertical-align: middle;\n",
       "    }\n",
       "\n",
       "    .dataframe tbody tr th {\n",
       "        vertical-align: top;\n",
       "    }\n",
       "\n",
       "    .dataframe thead th {\n",
       "        text-align: right;\n",
       "    }\n",
       "</style>\n",
       "<table border=\"1\" class=\"dataframe\">\n",
       "  <thead>\n",
       "    <tr style=\"text-align: right;\">\n",
       "      <th></th>\n",
       "      <th>dest_busid</th>\n",
       "      <th>TripsPerDest</th>\n",
       "      <th>TripsPerOrig</th>\n",
       "    </tr>\n",
       "  </thead>\n",
       "  <tbody>\n",
       "    <tr>\n",
       "      <th>0</th>\n",
       "      <td>1001</td>\n",
       "      <td>172</td>\n",
       "      <td>107.0</td>\n",
       "    </tr>\n",
       "    <tr>\n",
       "      <th>1</th>\n",
       "      <td>1002</td>\n",
       "      <td>85</td>\n",
       "      <td>52.0</td>\n",
       "    </tr>\n",
       "    <tr>\n",
       "      <th>2</th>\n",
       "      <td>1003</td>\n",
       "      <td>127</td>\n",
       "      <td>101.0</td>\n",
       "    </tr>\n",
       "    <tr>\n",
       "      <th>3</th>\n",
       "      <td>1004</td>\n",
       "      <td>100</td>\n",
       "      <td>149.0</td>\n",
       "    </tr>\n",
       "    <tr>\n",
       "      <th>4</th>\n",
       "      <td>1005</td>\n",
       "      <td>154</td>\n",
       "      <td>165.0</td>\n",
       "    </tr>\n",
       "  </tbody>\n",
       "</table>\n",
       "</div>"
      ],
      "text/plain": [
       "   dest_busid  TripsPerDest  TripsPerOrig\n",
       "0        1001           172         107.0\n",
       "1        1002            85          52.0\n",
       "2        1003           127         101.0\n",
       "3        1004           100         149.0\n",
       "4        1005           154         165.0"
      ]
     },
     "execution_count": 17,
     "metadata": {},
     "output_type": "execute_result"
    }
   ],
   "source": [
    "trips.head()"
   ]
  },
  {
   "cell_type": "code",
   "execution_count": 18,
   "metadata": {},
   "outputs": [],
   "source": [
    "trips.dest_busid = trips.dest_busid.astype(str)"
   ]
  },
  {
   "cell_type": "code",
   "execution_count": 19,
   "metadata": {},
   "outputs": [
    {
     "data": {
      "text/html": [
       "<div>\n",
       "<style scoped>\n",
       "    .dataframe tbody tr th:only-of-type {\n",
       "        vertical-align: middle;\n",
       "    }\n",
       "\n",
       "    .dataframe tbody tr th {\n",
       "        vertical-align: top;\n",
       "    }\n",
       "\n",
       "    .dataframe thead th {\n",
       "        text-align: right;\n",
       "    }\n",
       "</style>\n",
       "<table border=\"1\" class=\"dataframe\">\n",
       "  <thead>\n",
       "    <tr style=\"text-align: right;\">\n",
       "      <th></th>\n",
       "      <th>TripsPerDest</th>\n",
       "      <th>TripsPerOrig</th>\n",
       "    </tr>\n",
       "  </thead>\n",
       "  <tbody>\n",
       "    <tr>\n",
       "      <th>count</th>\n",
       "      <td>4370.000000</td>\n",
       "      <td>4370.000000</td>\n",
       "    </tr>\n",
       "    <tr>\n",
       "      <th>mean</th>\n",
       "      <td>84.859268</td>\n",
       "      <td>84.526316</td>\n",
       "    </tr>\n",
       "    <tr>\n",
       "      <th>std</th>\n",
       "      <td>192.114524</td>\n",
       "      <td>239.416555</td>\n",
       "    </tr>\n",
       "    <tr>\n",
       "      <th>min</th>\n",
       "      <td>1.000000</td>\n",
       "      <td>0.000000</td>\n",
       "    </tr>\n",
       "    <tr>\n",
       "      <th>25%</th>\n",
       "      <td>12.000000</td>\n",
       "      <td>9.000000</td>\n",
       "    </tr>\n",
       "    <tr>\n",
       "      <th>50%</th>\n",
       "      <td>36.000000</td>\n",
       "      <td>31.000000</td>\n",
       "    </tr>\n",
       "    <tr>\n",
       "      <th>75%</th>\n",
       "      <td>94.000000</td>\n",
       "      <td>86.000000</td>\n",
       "    </tr>\n",
       "    <tr>\n",
       "      <th>max</th>\n",
       "      <td>4270.000000</td>\n",
       "      <td>5302.000000</td>\n",
       "    </tr>\n",
       "  </tbody>\n",
       "</table>\n",
       "</div>"
      ],
      "text/plain": [
       "       TripsPerDest  TripsPerOrig\n",
       "count   4370.000000   4370.000000\n",
       "mean      84.859268     84.526316\n",
       "std      192.114524    239.416555\n",
       "min        1.000000      0.000000\n",
       "25%       12.000000      9.000000\n",
       "50%       36.000000     31.000000\n",
       "75%       94.000000     86.000000\n",
       "max     4270.000000   5302.000000"
      ]
     },
     "execution_count": 19,
     "metadata": {},
     "output_type": "execute_result"
    }
   ],
   "source": [
    "trips.describe()"
   ]
  },
  {
   "cell_type": "code",
   "execution_count": 20,
   "metadata": {},
   "outputs": [
    {
     "data": {
      "text/plain": [
       "TripsPerDest    36907.990490\n",
       "TripsPerOrig    57320.286902\n",
       "dtype: float64"
      ]
     },
     "execution_count": 20,
     "metadata": {},
     "output_type": "execute_result"
    }
   ],
   "source": [
    "trips.var()"
   ]
  },
  {
   "cell_type": "code",
   "execution_count": 21,
   "metadata": {},
   "outputs": [],
   "source": [
    "#plot bar graph to show the frequency of trips for each bus stop\n",
    "#ax=trips.plot.bar(x='dest_busid', y='TripsPerDest', figsize=(20,10))\n",
    "#ax.set_xlabel('Bus Stops')\n",
    "#ax.set_ylabel('Exit Trip Frequency per Bustop')"
   ]
  },
  {
   "cell_type": "code",
   "execution_count": 23,
   "metadata": {},
   "outputs": [],
   "source": [
    "interchange = pd.read_csv('interchanges_trips.csv')\n",
    "interchange.dest_busid = interchange.dest_busid.astype(str)\n",
    "inter_merge = pd.merge(trips, interchange, on='dest_busid', how='left')"
   ]
  },
  {
   "cell_type": "code",
   "execution_count": 33,
   "metadata": {},
   "outputs": [
    {
     "data": {
      "text/html": [
       "<div>\n",
       "<style scoped>\n",
       "    .dataframe tbody tr th:only-of-type {\n",
       "        vertical-align: middle;\n",
       "    }\n",
       "\n",
       "    .dataframe tbody tr th {\n",
       "        vertical-align: top;\n",
       "    }\n",
       "\n",
       "    .dataframe thead th {\n",
       "        text-align: right;\n",
       "    }\n",
       "</style>\n",
       "<table border=\"1\" class=\"dataframe\">\n",
       "  <thead>\n",
       "    <tr style=\"text-align: right;\">\n",
       "      <th></th>\n",
       "      <th>dest_busid</th>\n",
       "      <th>TripsPerDest</th>\n",
       "      <th>TripsPerOrig</th>\n",
       "      <th>Interchange_ZipCode</th>\n",
       "      <th>Elderly_Trips_Freq</th>\n",
       "      <th>Has_Interchange</th>\n",
       "    </tr>\n",
       "  </thead>\n",
       "  <tbody>\n",
       "  </tbody>\n",
       "</table>\n",
       "</div>"
      ],
      "text/plain": [
       "Empty DataFrame\n",
       "Columns: [dest_busid, TripsPerDest, TripsPerOrig, Interchange_ZipCode, Elderly_Trips_Freq, Has_Interchange]\n",
       "Index: []"
      ]
     },
     "execution_count": 33,
     "metadata": {},
     "output_type": "execute_result"
    }
   ],
   "source": [
    "inter_merge[inter_merge['dest_busid']=='2492']"
   ]
  },
  {
   "cell_type": "code",
   "execution_count": 25,
   "metadata": {},
   "outputs": [
    {
     "data": {
      "text/html": [
       "<div>\n",
       "<style scoped>\n",
       "    .dataframe tbody tr th:only-of-type {\n",
       "        vertical-align: middle;\n",
       "    }\n",
       "\n",
       "    .dataframe tbody tr th {\n",
       "        vertical-align: top;\n",
       "    }\n",
       "\n",
       "    .dataframe thead th {\n",
       "        text-align: right;\n",
       "    }\n",
       "</style>\n",
       "<table border=\"1\" class=\"dataframe\">\n",
       "  <thead>\n",
       "    <tr style=\"text-align: right;\">\n",
       "      <th></th>\n",
       "      <th>TripsPerDest</th>\n",
       "      <th>TripsPerOrig</th>\n",
       "      <th>Interchange_ZipCode</th>\n",
       "      <th>Elderly_Trips_Freq</th>\n",
       "      <th>Has_Interchange</th>\n",
       "    </tr>\n",
       "  </thead>\n",
       "  <tbody>\n",
       "    <tr>\n",
       "      <th>count</th>\n",
       "      <td>4350.000000</td>\n",
       "      <td>4350.000000</td>\n",
       "      <td>0.0</td>\n",
       "      <td>0.0</td>\n",
       "      <td>0.0</td>\n",
       "    </tr>\n",
       "    <tr>\n",
       "      <th>mean</th>\n",
       "      <td>78.725057</td>\n",
       "      <td>75.992414</td>\n",
       "      <td>NaN</td>\n",
       "      <td>NaN</td>\n",
       "      <td>NaN</td>\n",
       "    </tr>\n",
       "    <tr>\n",
       "      <th>std</th>\n",
       "      <td>140.588013</td>\n",
       "      <td>165.591941</td>\n",
       "      <td>NaN</td>\n",
       "      <td>NaN</td>\n",
       "      <td>NaN</td>\n",
       "    </tr>\n",
       "    <tr>\n",
       "      <th>min</th>\n",
       "      <td>1.000000</td>\n",
       "      <td>0.000000</td>\n",
       "      <td>NaN</td>\n",
       "      <td>NaN</td>\n",
       "      <td>NaN</td>\n",
       "    </tr>\n",
       "    <tr>\n",
       "      <th>25%</th>\n",
       "      <td>12.000000</td>\n",
       "      <td>9.000000</td>\n",
       "      <td>NaN</td>\n",
       "      <td>NaN</td>\n",
       "      <td>NaN</td>\n",
       "    </tr>\n",
       "    <tr>\n",
       "      <th>50%</th>\n",
       "      <td>35.000000</td>\n",
       "      <td>30.000000</td>\n",
       "      <td>NaN</td>\n",
       "      <td>NaN</td>\n",
       "      <td>NaN</td>\n",
       "    </tr>\n",
       "    <tr>\n",
       "      <th>75%</th>\n",
       "      <td>93.000000</td>\n",
       "      <td>85.000000</td>\n",
       "      <td>NaN</td>\n",
       "      <td>NaN</td>\n",
       "      <td>NaN</td>\n",
       "    </tr>\n",
       "    <tr>\n",
       "      <th>max</th>\n",
       "      <td>3170.000000</td>\n",
       "      <td>4561.000000</td>\n",
       "      <td>NaN</td>\n",
       "      <td>NaN</td>\n",
       "      <td>NaN</td>\n",
       "    </tr>\n",
       "  </tbody>\n",
       "</table>\n",
       "</div>"
      ],
      "text/plain": [
       "       TripsPerDest  TripsPerOrig  Interchange_ZipCode  Elderly_Trips_Freq  \\\n",
       "count   4350.000000   4350.000000                  0.0                 0.0   \n",
       "mean      78.725057     75.992414                  NaN                 NaN   \n",
       "std      140.588013    165.591941                  NaN                 NaN   \n",
       "min        1.000000      0.000000                  NaN                 NaN   \n",
       "25%       12.000000      9.000000                  NaN                 NaN   \n",
       "50%       35.000000     30.000000                  NaN                 NaN   \n",
       "75%       93.000000     85.000000                  NaN                 NaN   \n",
       "max     3170.000000   4561.000000                  NaN                 NaN   \n",
       "\n",
       "       Has_Interchange  \n",
       "count              0.0  \n",
       "mean               NaN  \n",
       "std                NaN  \n",
       "min                NaN  \n",
       "25%                NaN  \n",
       "50%                NaN  \n",
       "75%                NaN  \n",
       "max                NaN  "
      ]
     },
     "execution_count": 25,
     "metadata": {},
     "output_type": "execute_result"
    }
   ],
   "source": [
    "inter_merge[inter_merge['Has_Interchange'] !=1].describe()"
   ]
  },
  {
   "cell_type": "code",
   "execution_count": 26,
   "metadata": {},
   "outputs": [
    {
     "data": {
      "text/plain": [
       "TripsPerDest           19764.989462\n",
       "TripsPerOrig           27420.690906\n",
       "Interchange_ZipCode             NaN\n",
       "Elderly_Trips_Freq              NaN\n",
       "Has_Interchange                 NaN\n",
       "dtype: float64"
      ]
     },
     "execution_count": 26,
     "metadata": {},
     "output_type": "execute_result"
    }
   ],
   "source": [
    "inter_merge[inter_merge['Has_Interchange'] !=1].var()"
   ]
  },
  {
   "cell_type": "code",
   "execution_count": 27,
   "metadata": {},
   "outputs": [],
   "source": [
    "trips3 = inter_merge[inter_merge['Has_Interchange'] !=1].copy()"
   ]
  },
  {
   "cell_type": "code",
   "execution_count": 31,
   "metadata": {},
   "outputs": [
    {
     "data": {
      "text/plain": [
       "Text(0, 0.5, 'Frequency of count value')"
      ]
     },
     "execution_count": 31,
     "metadata": {},
     "output_type": "execute_result"
    },
    {
     "data": {
      "image/png": "[encoded data removed]",
      "text/plain": [
       "<Figure size 576x360 with 1 Axes>"
      ]
     },
     "metadata": {
      "needs_background": "light"
     },
     "output_type": "display_data"
    }
   ],
   "source": [
    "#plot histogram of the exit trips\n",
    "ax = trips3['TripsPerDest'].plot.hist(bins = 200, figsize=(8,5))\n",
    "ax.set_xlabel('Bus stops trip count values')\n",
    "ax.set_ylabel('Frequency of count value')"
   ]
  },
  {
   "cell_type": "code",
   "execution_count": 30,
   "metadata": {},
   "outputs": [
    {
     "data": {
      "text/plain": [
       "24"
      ]
     },
     "execution_count": 30,
     "metadata": {},
     "output_type": "execute_result"
    }
   ],
   "source": [
    "len(trips[trips['TripsPerDest']>1000])"
   ]
  },
  {
   "cell_type": "code",
   "execution_count": 31,
   "metadata": {},
   "outputs": [
    {
     "data": {
      "text/html": [
       "<div>\n",
       "<style scoped>\n",
       "    .dataframe tbody tr th:only-of-type {\n",
       "        vertical-align: middle;\n",
       "    }\n",
       "\n",
       "    .dataframe tbody tr th {\n",
       "        vertical-align: top;\n",
       "    }\n",
       "\n",
       "    .dataframe thead th {\n",
       "        text-align: right;\n",
       "    }\n",
       "</style>\n",
       "<table border=\"1\" class=\"dataframe\">\n",
       "  <thead>\n",
       "    <tr style=\"text-align: right;\">\n",
       "      <th></th>\n",
       "      <th>TripsPerDest</th>\n",
       "      <th>TripsPerOrig</th>\n",
       "    </tr>\n",
       "  </thead>\n",
       "  <tbody>\n",
       "    <tr>\n",
       "      <th>count</th>\n",
       "      <td>4346.000000</td>\n",
       "      <td>4346.000000</td>\n",
       "    </tr>\n",
       "    <tr>\n",
       "      <th>mean</th>\n",
       "      <td>74.576852</td>\n",
       "      <td>71.782329</td>\n",
       "    </tr>\n",
       "    <tr>\n",
       "      <th>std</th>\n",
       "      <td>108.641540</td>\n",
       "      <td>119.519935</td>\n",
       "    </tr>\n",
       "    <tr>\n",
       "      <th>min</th>\n",
       "      <td>1.000000</td>\n",
       "      <td>0.000000</td>\n",
       "    </tr>\n",
       "    <tr>\n",
       "      <th>25%</th>\n",
       "      <td>12.000000</td>\n",
       "      <td>9.000000</td>\n",
       "    </tr>\n",
       "    <tr>\n",
       "      <th>50%</th>\n",
       "      <td>35.000000</td>\n",
       "      <td>30.000000</td>\n",
       "    </tr>\n",
       "    <tr>\n",
       "      <th>75%</th>\n",
       "      <td>93.000000</td>\n",
       "      <td>85.000000</td>\n",
       "    </tr>\n",
       "    <tr>\n",
       "      <th>max</th>\n",
       "      <td>939.000000</td>\n",
       "      <td>1765.000000</td>\n",
       "    </tr>\n",
       "  </tbody>\n",
       "</table>\n",
       "</div>"
      ],
      "text/plain": [
       "       TripsPerDest  TripsPerOrig\n",
       "count   4346.000000   4346.000000\n",
       "mean      74.576852     71.782329\n",
       "std      108.641540    119.519935\n",
       "min        1.000000      0.000000\n",
       "25%       12.000000      9.000000\n",
       "50%       35.000000     30.000000\n",
       "75%       93.000000     85.000000\n",
       "max      939.000000   1765.000000"
      ]
     },
     "execution_count": 31,
     "metadata": {},
     "output_type": "execute_result"
    }
   ],
   "source": [
    "trips[trips['TripsPerDest']<1000].describe()"
   ]
  },
  {
   "cell_type": "code",
   "execution_count": 32,
   "metadata": {},
   "outputs": [
    {
     "data": {
      "text/plain": [
       "TripsPerDest    11802.984311\n",
       "TripsPerOrig    14285.014979\n",
       "dtype: float64"
      ]
     },
     "execution_count": 32,
     "metadata": {},
     "output_type": "execute_result"
    }
   ],
   "source": [
    "trips[trips['TripsPerDest']<1000].var()"
   ]
  },
  {
   "cell_type": "code",
   "execution_count": 33,
   "metadata": {},
   "outputs": [
    {
     "data": {
      "text/plain": [
       "0.5491990846681922"
      ]
     },
     "execution_count": 33,
     "metadata": {},
     "output_type": "execute_result"
    }
   ],
   "source": [
    "(24/4370)*100"
   ]
  },
  {
   "cell_type": "code",
   "execution_count": 34,
   "metadata": {},
   "outputs": [],
   "source": [
    "trips2 = trips[trips['TripsPerDest']<1000].copy()"
   ]
  },
  {
   "cell_type": "code",
   "execution_count": 42,
   "metadata": {},
   "outputs": [
    {
     "data": {
      "text/plain": [
       "Text(0, 0.5, 'Frequency of count value')"
      ]
     },
     "execution_count": 42,
     "metadata": {},
     "output_type": "execute_result"
    },
    {
     "data": {
      "image/png": "[encoded data removed]",
      "text/plain": [
       "<Figure size 576x360 with 1 Axes>"
      ]
     },
     "metadata": {
      "needs_background": "light"
     },
     "output_type": "display_data"
    }
   ],
   "source": [
    "#plot histogram of the exit trips\n",
    "ax = trips2['TripsPerDest'].plot.hist(bins = 80, figsize=(8,5))\n",
    "ax.set_xlabel('Bus stops trip count values')\n",
    "ax.set_ylabel('Frequency of count value')"
   ]
  },
  {
   "cell_type": "code",
   "execution_count": 47,
   "metadata": {},
   "outputs": [],
   "source": [
    "#Analysing the POIs\n",
    "poi = pd.read_csv(\"C:/Users/Grace/Documents/reconclusionofstudyvisitagreatexperienceatdplab/Python/OD_allPOI_600.csv\")"
   ]
  },
  {
   "cell_type": "code",
   "execution_count": 50,
   "metadata": {},
   "outputs": [
    {
     "data": {
      "text/plain": [
       "array(['child_care', 'health_care', 'culture', 'daily_needs', 'sports',\n",
       "       'social'], dtype=object)"
      ]
     },
     "execution_count": 50,
     "metadata": {},
     "output_type": "execute_result"
    }
   ],
   "source": [
    "poi.poi_group.unique()"
   ]
  },
  {
   "cell_type": "code",
   "execution_count": 51,
   "metadata": {},
   "outputs": [],
   "source": [
    "child_care = poi[poi['poi_group']=='child_care']\n",
    "health_care = poi[poi['poi_group']=='health_care']\n",
    "culture = poi[poi['poi_group']=='culture']\n",
    "shop = poi[poi['poi_group']=='daily_needs']\n",
    "sports = poi[poi['poi_group']=='sports']\n",
    "social = poi[poi['poi_group']=='social']"
   ]
  },
  {
   "cell_type": "code",
   "execution_count": 52,
   "metadata": {},
   "outputs": [
    {
     "data": {
      "text/plain": [
       "Index(['Name', 'Total_Leng', 'geometry', 'dest_busid', 'poi', 'TRADE_CODE',\n",
       "       'poi_group'],\n",
       "      dtype='object')"
      ]
     },
     "execution_count": 52,
     "metadata": {},
     "output_type": "execute_result"
    }
   ],
   "source": [
    "child_care.columns"
   ]
  },
  {
   "cell_type": "code",
   "execution_count": 55,
   "metadata": {},
   "outputs": [
    {
     "name": "stdout",
     "output_type": "stream",
     "text": [
      "child_care  420\n",
      "health_care  283\n",
      "culture  850\n",
      "shop  260\n",
      "social  176\n",
      "sports  194\n"
     ]
    }
   ],
   "source": [
    "print('child_care ', len(child_care.poi.unique()))\n",
    "print('health_care ', len(health_care.poi.unique()))\n",
    "print('culture ', len(culture.poi.unique()))\n",
    "print('shop ', len(shop.poi.unique()))\n",
    "print('social ', len(social.poi.unique()))\n",
    "print('sports ', len(sports.poi.unique()))"
   ]
  },
  {
   "cell_type": "code",
   "execution_count": null,
   "metadata": {},
   "outputs": [],
   "source": [
    "#assign location to high trip bus stops\n",
    "dest_summary = pd.read_csv('high_trips_bus.csv')"
   ]
  },
  {
   "cell_type": "code",
   "execution_count": 24,
   "metadata": {},
   "outputs": [],
   "source": [
    "loc = gpd.read_file('C:/Users/Grace/Documents/Singapore shapefiles/analysis_12_06_19/BusStops_location.shp')\n",
    "loc.dest_busid = loc.dest_busid.astype(str)"
   ]
  },
  {
   "cell_type": "code",
   "execution_count": 28,
   "metadata": {},
   "outputs": [],
   "source": [
    "trips_loc = loc.merge(dest_summary, how='right', on='dest_busid')"
   ]
  },
  {
   "cell_type": "code",
   "execution_count": null,
   "metadata": {},
   "outputs": [],
   "source": [
    "#check if the non located bus_stops are same wit those without pois within 600m\n",
    "trips_loc\n"
   ]
  },
  {
   "cell_type": "code",
   "execution_count": 33,
   "metadata": {},
   "outputs": [],
   "source": [
    "trips_loc.x, trips_loc.y = trips_loc.x.astype(str),trips_loc.x.astype(str)"
   ]
  },
  {
   "cell_type": "code",
   "execution_count": 45,
   "metadata": {},
   "outputs": [],
   "source": [
    "#encoding the interchange addresses for it to be recognized in GIS\n",
    "interchange = pd.read_csv('C:/Users/Grace/Documents/reconclusionofstudyvisitagreatexperienceatdplab/Interchange_Addresses3.csv', encoding = \"ISO-8859-1\")"
   ]
  },
  {
   "cell_type": "code",
   "execution_count": 47,
   "metadata": {},
   "outputs": [],
   "source": [
    "interchange.to_csv('Interchange_Addresses4.csv', index=False, encoding=\"utf-8\")"
   ]
  },
  {
   "cell_type": "code",
   "execution_count": 39,
   "metadata": {},
   "outputs": [],
   "source": [
    "trips_loc.to_csv('high_trips_loc.csv')"
   ]
  }
 ],
 "metadata": {
  "kernelspec": {
   "display_name": "Python 3",
   "language": "python",
   "name": "python3"
  },
  "language_info": {
   "codemirror_mode": {
    "name": "ipython",
    "version": 3
   },
   "file_extension": ".py",
   "mimetype": "text/x-python",
   "name": "python",
   "nbconvert_exporter": "python",
   "pygments_lexer": "ipython3",
   "version": "3.7.0"
  }
 },
 "nbformat": 4,
 "nbformat_minor": 2
}
