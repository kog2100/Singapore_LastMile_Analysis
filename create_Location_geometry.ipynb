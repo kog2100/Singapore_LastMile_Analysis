{
 "cells": [
  {
   "cell_type": "code",
   "execution_count": null,
   "metadata": {},
   "outputs": [],
   "source": [
    "import pandas as pd\n",
    "import geopandas as gpd\n",
    "from geopandas.geoseries import Point"
   ]
  },
  {
   "cell_type": "code",
   "execution_count": null,
   "metadata": {},
   "outputs": [],
   "source": [
    "#read in files\n",
    "bus_to_poi = pd.read_csv(\"OD_allPOI_600.csv\")\n",
    "bus_stops = gpd.read_file('BusStop.shp')"
   ]
  },
  {
   "cell_type": "code",
   "execution_count": null,
   "metadata": {},
   "outputs": [],
   "source": [
    "#convert csv file to geopandas dataframe\n",
    "crs = {'init': 'epsg:3414'}\n",
    "bus_poi_linestring = gpd.GeoDataFrame(bus_to_poi, crs=crs)"
   ]
  },
  {
   "cell_type": "code",
   "execution_count": null,
   "metadata": {},
   "outputs": [],
   "source": [
    "bus_poi_linestring.info()"
   ]
  },
  {
   "cell_type": "code",
   "execution_count": null,
   "metadata": {},
   "outputs": [],
   "source": [
    "#convert string geometry to geoseries\n",
    "import shapely.wkt\n",
    "bus_poi_linestring['geometry'] = bus_poi_linestring['geometry'].apply(shapely.wkt.loads)"
   ]
  },
  {
   "cell_type": "code",
   "execution_count": null,
   "metadata": {},
   "outputs": [],
   "source": [
    "#separate line geometry to points for start and end points\n",
    "#startpts = gpd.GeoSeries([Point(list(pt['geometry'].coords)[0]) for i, pt in bus_poi_linestring['geometry'].iterrows()])\n",
    "startpts = gpd.GeoSeries([Point(list(pt['geometry'].coords)[0]) for i,pt in bus_poi_linestring[['geometry']].iterrows()])\n",
    "endpts = gpd.GeoSeries([Point(list(pt['geometry'].coords)[-1]) for i,pt in bus_poi_linestring[['geometry']].iterrows()])"
   ]
  },
  {
   "cell_type": "code",
   "execution_count": null,
   "metadata": {},
   "outputs": [],
   "source": [
    "test1 = gpd.GeoSeries([(pt['geometry'].coords)[-1] for i,pt in bus_poi_linestring[['geometry']].iterrows()])\n",
    "len(test1.unique())"
   ]
  },
  {
   "cell_type": "code",
   "execution_count": null,
   "metadata": {},
   "outputs": [],
   "source": [
    "bus_poi_linestring['geometry_stop'] = startpts\n",
    "bus_poi_linestring['geometry_poi'] = endpts"
   ]
  },
  {
   "cell_type": "code",
   "execution_count": null,
   "metadata": {},
   "outputs": [],
   "source": [
    "bus_poi_linestring.head()"
   ]
  },
  {
   "cell_type": "code",
   "execution_count": null,
   "metadata": {},
   "outputs": [],
   "source": [
    "bus_loc = bus_poi_linestring.drop_duplicates(subset=['dest_busid'], keep='first').copy()"
   ]
  },
  {
   "cell_type": "code",
   "execution_count": null,
   "metadata": {},
   "outputs": [],
   "source": [
    "bus_loc = gpd.GeoDataFrame(bus_loc[['dest_busid','geometry_stop']])\n",
    "bus_loc.rename(columns={'geometry_stop':'geometry'}, inplace=True)"
   ]
  },
  {
   "cell_type": "code",
   "execution_count": null,
   "metadata": {},
   "outputs": [],
   "source": [
    "bus_loc.info()"
   ]
  },
  {
   "cell_type": "code",
   "execution_count": null,
   "metadata": {},
   "outputs": [],
   "source": [
    "bus_poi_linestring.info()"
   ]
  },
  {
   "cell_type": "code",
   "execution_count": null,
   "metadata": {},
   "outputs": [],
   "source": [
    "#convert csv file to geopandas dataframe\n",
    "#crs = {'init': 'epsg:3414'}\n",
    "#bus_loc = gpd.GeoDataFrame(bus_loc, crs=crs)\n",
    "#bus_loc.to_file('bus_stop_location1.shp')"
   ]
  },
  {
   "cell_type": "code",
   "execution_count": null,
   "metadata": {},
   "outputs": [],
   "source": [
    "bus_loc.info()"
   ]
  },
  {
   "cell_type": "code",
   "execution_count": null,
   "metadata": {},
   "outputs": [],
   "source": [
    "poi_loc = bus_poi_linestring.drop_duplicates(subset=['poi'], keep='first')"
   ]
  },
  {
   "cell_type": "code",
   "execution_count": null,
   "metadata": {},
   "outputs": [],
   "source": [
    "#Make Point hashable to perform merge by extending the shapely.geometry.Point class\n",
    "class HPoint(shapely.geometry.Point):\n",
    "    def __init__(self, *args, **kwargs):\n",
    "        super().__init__(*args, **kwargs)\n",
    "    \n",
    "    def __hash__self(self):\n",
    "        return hash(tuple(self.coords))"
   ]
  },
  {
   "cell_type": "code",
   "execution_count": null,
   "metadata": {},
   "outputs": [],
   "source": [
    "def dataframe_to_geodataframe(df):\n",
    "    geometry = [HPoint(xy) for xy in zip(df.x, df.y)]\n",
    "    gdf = gpd.GeoDataFrame(df, geometry=geometry)\n",
    "    return gdf\n"
   ]
  },
  {
   "cell_type": "code",
   "execution_count": null,
   "metadata": {},
   "outputs": [],
   "source": [
    "gdf = dataframe_to_geodataframe(bus_loc)"
   ]
  },
  {
   "cell_type": "code",
   "execution_count": null,
   "metadata": {},
   "outputs": [],
   "source": []
  },
  {
   "cell_type": "code",
   "execution_count": null,
   "metadata": {},
   "outputs": [],
   "source": [
    "bus_stops.info()"
   ]
  },
  {
   "cell_type": "code",
   "execution_count": null,
   "metadata": {},
   "outputs": [],
   "source": [
    "merge = pd.merge(bus_loc,bus_stop_pd, left_on='geometry_stop', right_on='geometry')"
   ]
  },
  {
   "cell_type": "code",
   "execution_count": null,
   "metadata": {},
   "outputs": [],
   "source": [
    "def getXY(pt):\n",
    "    return (pt.x, pt.y)"
   ]
  },
  {
   "cell_type": "code",
   "execution_count": null,
   "metadata": {},
   "outputs": [],
   "source": [
    "x_loc,y_loc = [list(t) for t in zip(*map(getXY, bus_loc['geometry']))] \n",
    "#x_bus,y_bus = [list(t) for t in zip(*map(getXY, bus_stops['geometry']))] "
   ]
  },
  {
   "cell_type": "code",
   "execution_count": null,
   "metadata": {},
   "outputs": [],
   "source": [
    "bus_loc['x'],bus_loc['y'] = x_loc,y_loc"
   ]
  },
  {
   "cell_type": "code",
   "execution_count": null,
   "metadata": {},
   "outputs": [],
   "source": [
    "#bus_stops['x'],bus_stops['y'] = x_bus,y_bus"
   ]
  },
  {
   "cell_type": "code",
   "execution_count": null,
   "metadata": {},
   "outputs": [],
   "source": [
    "bus_loc.sort_values(by=['x'], inplace=True)"
   ]
  },
  {
   "cell_type": "code",
   "execution_count": null,
   "metadata": {},
   "outputs": [],
   "source": [
    "bus_stops.sort_values(by=['x'], inplace=True)"
   ]
  },
  {
   "cell_type": "code",
   "execution_count": null,
   "metadata": {},
   "outputs": [],
   "source": [
    "bus_loc.to_file('BusStops_Location.shp')"
   ]
  },
  {
   "cell_type": "code",
   "execution_count": null,
   "metadata": {},
   "outputs": [],
   "source": [
    "bus_stops.tail(10)"
   ]
  },
  {
   "cell_type": "code",
   "execution_count": null,
   "metadata": {},
   "outputs": [],
   "source": [
    "bus_stop = gpd.read_file('busStop_location_svy.shp')\n",
    "planning_area = gpd.read_file('planning_area.shp')"
   ]
  },
  {
   "cell_type": "code",
   "execution_count": null,
   "metadata": {},
   "outputs": [],
   "source": [
    "busStop_pArea = gpd.sjoin(bus_stop, planning_area, op='within')\n",
    "len(busStop_pArea) == len(bus_stop)"
   ]
  },
  {
   "cell_type": "code",
   "execution_count": null,
   "metadata": {},
   "outputs": [],
   "source": [
    "busStop_pArea"
   ]
  },
  {
   "cell_type": "code",
   "execution_count": null,
   "metadata": {},
   "outputs": [],
   "source": []
  }
 ],
 "metadata": {
  "kernelspec": {
   "display_name": "Python 3",
   "language": "python",
   "name": "python3"
  },
  "language_info": {
   "codemirror_mode": {
    "name": "ipython",
    "version": 3
   },
   "file_extension": ".py",
   "mimetype": "text/x-python",
   "name": "python",
   "nbconvert_exporter": "python",
   "pygments_lexer": "ipython3",
   "version": "3.7.0"
  }
 },
 "nbformat": 4,
 "nbformat_minor": 2
}
